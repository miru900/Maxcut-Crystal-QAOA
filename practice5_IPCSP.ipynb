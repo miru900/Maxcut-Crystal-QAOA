{
 "cells": [
  {
   "cell_type": "code",
   "execution_count": 438,
   "id": "47ff2708-8f80-4d3b-82e7-9e6ed85f716d",
   "metadata": {},
   "outputs": [],
   "source": [
    "import matplotlib.pyplot as plt\n",
    "import cirq\n",
    "import numpy as np\n",
    "from cirq.contrib.svg import SVGCircuit\n",
    "import sympy as sp\n",
    "import pandas as pd\n",
    "import math\n",
    "import cma"
   ]
  },
  {
   "cell_type": "markdown",
   "id": "c3310e04-d796-4b24-b80a-b377d8f556ed",
   "metadata": {},
   "source": [
    "## 1. Initialization : Crystal weight matrix"
   ]
  },
  {
   "cell_type": "code",
   "execution_count": 439,
   "id": "69525c53-21af-464f-a405-ce7a1ec7e9c9",
   "metadata": {},
   "outputs": [
    {
     "name": "stdout",
     "output_type": "stream",
     "text": [
      "[[ 0.          1.          1.          0.70710678  0.         -1.\n",
      "  -1.         -0.70710678]\n",
      " [ 0.          0.          0.70710678  1.         -1.          0.\n",
      "  -0.70710678 -1.        ]\n",
      " [ 0.          0.         10.          1.         -1.         -0.70710678\n",
      "   0.         -1.        ]\n",
      " [ 0.          0.          0.         10.         -0.70710678 -1.\n",
      "  -1.          0.        ]\n",
      " [ 0.          0.          0.          0.         10.          1.\n",
      "   1.          0.70710678]\n",
      " [ 0.          0.          0.          0.          0.         10.\n",
      "   0.70710678  1.        ]\n",
      " [ 0.          0.          0.          0.          0.          0.\n",
      "   0.          1.        ]\n",
      " [ 0.          0.          0.          0.          0.          0.\n",
      "   0.          0.        ]]\n"
     ]
    }
   ],
   "source": [
    "# Constant Block\n",
    "\n",
    "s = 1/np.sqrt(2)\n",
    "\n",
    "# Mode Block, mode = 1 Cobyla, mode = 2 Cma-Es, mode = 3 grid method\n",
    "\n",
    "p = 1\n",
    "mode = 2\n",
    "grid_size = 11\n",
    "\n",
    "# Weight Block\n",
    "\n",
    "weight = np.array([\n",
    "    [0, 1, 1, s, 0, -1, -1, -s],\n",
    "    [0, 0, s, 1, -1, 0, -s, -1],\n",
    "    [0, 0, 10, 1, -1, -s, 0, -1],\n",
    "    [0, 0, 0, 10, -s, -1, -1, 0],\n",
    "    [0, 0, 0, 0, 10, 1, 1, s],\n",
    "    [0, 0, 0, 0, 0, 10, s, 1],\n",
    "    [0, 0, 0, 0, 0, 0, 0, 1],\n",
    "    [0, 0, 0, 0, 0, 0, 0, 0]\n",
    "])\n",
    "\n",
    "print(weight)\n"
   ]
  },
  {
   "cell_type": "code",
   "execution_count": 440,
   "id": "b7162a52-fd8c-49f5-bff9-eabfdb21d07e",
   "metadata": {},
   "outputs": [
    {
     "name": "stdout",
     "output_type": "stream",
     "text": [
      "8\n"
     ]
    }
   ],
   "source": [
    "node = weight.shape[0]\n",
    "print(node)\n",
    "qaoa_circuit = cirq.Circuit()\n",
    "\n",
    "def qaoa_drawer(weight, symbols, i, node):\n",
    "    gamma = sp.Symbol(symbols[0][i])\n",
    "    beta = sp.Symbol(symbols[1][i])\n",
    "\n",
    "    qubits = cirq.LineQubit.range(node)\n",
    "\n",
    "    def cirqzz(qubits, weight, i, j):\n",
    "        return [cirq.CNOT(qubits[i], qubits[j]), cirq.rz(2 * gamma * weight[i, j]/4)(qubits[j]), cirq.CNOT(qubits[i], qubits[j])]\n",
    "    \n",
    "    for i in range(node):\n",
    "        for j in range(i+1, node):\n",
    "            if weight[i, j] != 0:\n",
    "                qaoa_circuit.append(cirqzz(qubits, weight, i, j))\n",
    "                qaoa_circuit.append(cirq.rz(2 * gamma * weight[i, j]/2)(qubits[i]))\n",
    "                qaoa_circuit.append(cirq.rz(2 * gamma * weight[i, j]/2)(qubits[j]))\n",
    "                # qaoa_circuit.append(cirq.ZZ(qubits[i], qubits[j]) ** (2 * gamma * weight[i, j]))\n",
    "\n",
    "    # Self Ineraction term\n",
    "    for i in range(node):\n",
    "        if weight[i, i] != 0:\n",
    "            qaoa_circuit.append(cirq.rz(2 * gamma * weight[i, i] * 1/2)(qubits[i]))\n",
    "            \n",
    "    # Mixer layer (Rx rotations applied in parallel)\n",
    "    qaoa_circuit.append([cirq.rx(2 * beta)(q) for q in qubits])\n",
    "\n",
    "def qaoa_depth(weight, p, node):\n",
    "    qubits = cirq.LineQubit.range(node)\n",
    "    symbols = [[\"γ\" + f\"{i}\" for i in range(p)], [\"β\" + f\"{i}\" for i in range(p)]]\n",
    "    qaoa_circuit.append([cirq.H(q) for q in qubits])\n",
    "    \n",
    "    for i in range(p):\n",
    "        qaoa_drawer(weight, symbols, i, node)\n",
    "\n",
    "    # Measurement layer\n",
    "    qaoa_circuit.append([cirq.measure(q) for q in qubits])"
   ]
  },
  {
   "cell_type": "code",
   "execution_count": 441,
   "id": "cd8396fe-026d-4399-b5c6-baa99b65e128",
   "metadata": {},
   "outputs": [
    {
     "data": {
      "image/svg+xml": [
       "<svg xmlns=\"http://www.w3.org/2000/svg\" width=\"6720.599101562494\" height=\"440.0\"><line x1=\"30.0\" x2=\"6690.599101562494\" y1=\"45.0\" y2=\"45.0\" stroke=\"#1967d2\" stroke-width=\"1\" /><line x1=\"30.0\" x2=\"6690.599101562494\" y1=\"95.0\" y2=\"95.0\" stroke=\"#1967d2\" stroke-width=\"1\" /><line x1=\"30.0\" x2=\"6690.599101562494\" y1=\"145.0\" y2=\"145.0\" stroke=\"#1967d2\" stroke-width=\"1\" /><line x1=\"30.0\" x2=\"6690.599101562494\" y1=\"195.0\" y2=\"195.0\" stroke=\"#1967d2\" stroke-width=\"1\" /><line x1=\"30.0\" x2=\"6690.599101562494\" y1=\"245.0\" y2=\"245.0\" stroke=\"#1967d2\" stroke-width=\"1\" /><line x1=\"30.0\" x2=\"6690.599101562494\" y1=\"295.0\" y2=\"295.0\" stroke=\"#1967d2\" stroke-width=\"1\" /><line x1=\"30.0\" x2=\"6690.599101562494\" y1=\"345.0\" y2=\"345.0\" stroke=\"#1967d2\" stroke-width=\"1\" /><line x1=\"30.0\" x2=\"6690.599101562494\" y1=\"395.0\" y2=\"395.0\" stroke=\"#1967d2\" stroke-width=\"1\" /><line x1=\"5454.811523437497\" x2=\"5544.811523437497\" y1=\"5.0\" y2=\"5.0\" stroke=\"black\" stroke-width=\"1\" /><line x1=\"5454.811523437497\" x2=\"5544.811523437497\" y1=\"435.0\" y2=\"435.0\" stroke=\"black\" stroke-width=\"1\" /><line x1=\"5128.229921874998\" x2=\"5218.229921874998\" y1=\"5.0\" y2=\"5.0\" stroke=\"black\" stroke-width=\"1\" /><line x1=\"5128.229921874998\" x2=\"5218.229921874998\" y1=\"435.0\" y2=\"435.0\" stroke=\"black\" stroke-width=\"1\" /><line x1=\"4546.749218749999\" x2=\"4636.749218749999\" y1=\"5.0\" y2=\"5.0\" stroke=\"black\" stroke-width=\"1\" /><line x1=\"4546.749218749999\" x2=\"4636.749218749999\" y1=\"435.0\" y2=\"435.0\" stroke=\"black\" stroke-width=\"1\" /><line x1=\"4289.029375\" x2=\"4429.81703125\" y1=\"5.0\" y2=\"5.0\" stroke=\"black\" stroke-width=\"1\" /><line x1=\"4289.029375\" x2=\"4429.81703125\" y1=\"435.0\" y2=\"435.0\" stroke=\"black\" stroke-width=\"1\" /><line x1=\"4082.0971875000005\" x2=\"4172.0971875000005\" y1=\"5.0\" y2=\"5.0\" stroke=\"black\" stroke-width=\"1\" /><line x1=\"4082.0971875000005\" x2=\"4172.0971875000005\" y1=\"435.0\" y2=\"435.0\" stroke=\"black\" stroke-width=\"1\" /><line x1=\"3845.0560546875004\" x2=\"3965.1650000000004\" y1=\"5.0\" y2=\"5.0\" stroke=\"black\" stroke-width=\"1\" /><line x1=\"3845.0560546875004\" x2=\"3965.1650000000004\" y1=\"435.0\" y2=\"435.0\" stroke=\"black\" stroke-width=\"1\" /><line x1=\"3473.4226953125003\" x2=\"3603.4226953125003\" y1=\"5.0\" y2=\"5.0\" stroke=\"black\" stroke-width=\"1\" /><line x1=\"3473.4226953125003\" x2=\"3603.4226953125003\" y1=\"435.0\" y2=\"435.0\" stroke=\"black\" stroke-width=\"1\" /><line x1=\"3071.680390625\" x2=\"3231.7893359375003\" y1=\"5.0\" y2=\"5.0\" stroke=\"black\" stroke-width=\"1\" /><line x1=\"3071.680390625\" x2=\"3231.7893359375003\" y1=\"435.0\" y2=\"435.0\" stroke=\"black\" stroke-width=\"1\" /><line x1=\"2700.04703125\" x2=\"2830.04703125\" y1=\"5.0\" y2=\"5.0\" stroke=\"black\" stroke-width=\"1\" /><line x1=\"2700.04703125\" x2=\"2830.04703125\" y1=\"435.0\" y2=\"435.0\" stroke=\"black\" stroke-width=\"1\" /><line x1=\"2328.413671875\" x2=\"2458.413671875\" y1=\"5.0\" y2=\"5.0\" stroke=\"black\" stroke-width=\"1\" /><line x1=\"2328.413671875\" x2=\"2458.413671875\" y1=\"435.0\" y2=\"435.0\" stroke=\"black\" stroke-width=\"1\" /><line x1=\"2081.481484375\" x2=\"2211.481484375\" y1=\"5.0\" y2=\"5.0\" stroke=\"black\" stroke-width=\"1\" /><line x1=\"2081.481484375\" x2=\"2211.481484375\" y1=\"435.0\" y2=\"435.0\" stroke=\"black\" stroke-width=\"1\" /><line x1=\"1834.5492968750002\" x2=\"1964.5492968750002\" y1=\"5.0\" y2=\"5.0\" stroke=\"black\" stroke-width=\"1\" /><line x1=\"1834.5492968750002\" x2=\"1964.5492968750002\" y1=\"435.0\" y2=\"435.0\" stroke=\"black\" stroke-width=\"1\" /><line x1=\"1627.6171093750002\" x2=\"1717.6171093750002\" y1=\"5.0\" y2=\"5.0\" stroke=\"black\" stroke-width=\"1\" /><line x1=\"1627.6171093750002\" x2=\"1717.6171093750002\" y1=\"435.0\" y2=\"435.0\" stroke=\"black\" stroke-width=\"1\" /><line x1=\"1420.684921875\" x2=\"1510.684921875\" y1=\"5.0\" y2=\"5.0\" stroke=\"black\" stroke-width=\"1\" /><line x1=\"1420.684921875\" x2=\"1510.684921875\" y1=\"435.0\" y2=\"435.0\" stroke=\"black\" stroke-width=\"1\" /><line x1=\"1094.1033203125\" x2=\"1184.1033203125\" y1=\"5.0\" y2=\"5.0\" stroke=\"black\" stroke-width=\"1\" /><line x1=\"1094.1033203125\" x2=\"1184.1033203125\" y1=\"435.0\" y2=\"435.0\" stroke=\"black\" stroke-width=\"1\" /><line x1=\"767.5217187500001\" x2=\"857.5217187500001\" y1=\"5.0\" y2=\"5.0\" stroke=\"black\" stroke-width=\"1\" /><line x1=\"767.5217187500001\" x2=\"857.5217187500001\" y1=\"435.0\" y2=\"435.0\" stroke=\"black\" stroke-width=\"1\" /><line x1=\"150.0\" x2=\"150.0\" y1=\"45.0\" y2=\"95.0\" stroke=\"black\" stroke-width=\"3\" /><line x1=\"311.8804296875\" x2=\"311.8804296875\" y1=\"45.0\" y2=\"95.0\" stroke=\"black\" stroke-width=\"3\" /><line x1=\"473.760859375\" x2=\"473.760859375\" y1=\"45.0\" y2=\"145.0\" stroke=\"black\" stroke-width=\"3\" /><line x1=\"635.6412890625\" x2=\"635.6412890625\" y1=\"45.0\" y2=\"145.0\" stroke=\"black\" stroke-width=\"3\" /><line x1=\"787.5217187500001\" x2=\"787.5217187500001\" y1=\"45.0\" y2=\"195.0\" stroke=\"black\" stroke-width=\"3\" /><line x1=\"827.5217187500001\" x2=\"827.5217187500001\" y1=\"95.0\" y2=\"145.0\" stroke=\"black\" stroke-width=\"3\" /><line x1=\"1114.1033203125\" x2=\"1114.1033203125\" y1=\"45.0\" y2=\"195.0\" stroke=\"black\" stroke-width=\"3\" /><line x1=\"1154.1033203125\" x2=\"1154.1033203125\" y1=\"95.0\" y2=\"145.0\" stroke=\"black\" stroke-width=\"3\" /><line x1=\"1440.684921875\" x2=\"1440.684921875\" y1=\"45.0\" y2=\"295.0\" stroke=\"black\" stroke-width=\"3\" /><line x1=\"1480.684921875\" x2=\"1480.684921875\" y1=\"95.0\" y2=\"195.0\" stroke=\"black\" stroke-width=\"3\" /><line x1=\"1647.6171093750002\" x2=\"1647.6171093750002\" y1=\"45.0\" y2=\"295.0\" stroke=\"black\" stroke-width=\"3\" /><line x1=\"1687.6171093750002\" x2=\"1687.6171093750002\" y1=\"95.0\" y2=\"195.0\" stroke=\"black\" stroke-width=\"3\" /><line x1=\"1854.5492968750002\" x2=\"1854.5492968750002\" y1=\"45.0\" y2=\"345.0\" stroke=\"black\" stroke-width=\"3\" /><line x1=\"1894.5492968750002\" x2=\"1894.5492968750002\" y1=\"95.0\" y2=\"245.0\" stroke=\"black\" stroke-width=\"3\" /><line x1=\"1934.5492968750002\" x2=\"1934.5492968750002\" y1=\"145.0\" y2=\"195.0\" stroke=\"black\" stroke-width=\"3\" /><line x1=\"2101.481484375\" x2=\"2101.481484375\" y1=\"45.0\" y2=\"345.0\" stroke=\"black\" stroke-width=\"3\" /><line x1=\"2141.481484375\" x2=\"2141.481484375\" y1=\"95.0\" y2=\"245.0\" stroke=\"black\" stroke-width=\"3\" /><line x1=\"2181.481484375\" x2=\"2181.481484375\" y1=\"145.0\" y2=\"195.0\" stroke=\"black\" stroke-width=\"3\" /><line x1=\"2348.413671875\" x2=\"2348.413671875\" y1=\"45.0\" y2=\"395.0\" stroke=\"black\" stroke-width=\"3\" /><line x1=\"2388.413671875\" x2=\"2388.413671875\" y1=\"95.0\" y2=\"345.0\" stroke=\"black\" stroke-width=\"3\" /><line x1=\"2428.413671875\" x2=\"2428.413671875\" y1=\"145.0\" y2=\"245.0\" stroke=\"black\" stroke-width=\"3\" /><line x1=\"2720.04703125\" x2=\"2720.04703125\" y1=\"45.0\" y2=\"395.0\" stroke=\"black\" stroke-width=\"3\" /><line x1=\"2760.04703125\" x2=\"2760.04703125\" y1=\"95.0\" y2=\"345.0\" stroke=\"black\" stroke-width=\"3\" /><line x1=\"2800.04703125\" x2=\"2800.04703125\" y1=\"145.0\" y2=\"245.0\" stroke=\"black\" stroke-width=\"3\" /><line x1=\"3106.73486328125\" x2=\"3106.73486328125\" y1=\"95.0\" y2=\"395.0\" stroke=\"black\" stroke-width=\"3\" /><line x1=\"3161.7893359375003\" x2=\"3161.7893359375003\" y1=\"145.0\" y2=\"295.0\" stroke=\"black\" stroke-width=\"3\" /><line x1=\"3201.7893359375003\" x2=\"3201.7893359375003\" y1=\"195.0\" y2=\"245.0\" stroke=\"black\" stroke-width=\"3\" /><line x1=\"3493.4226953125003\" x2=\"3493.4226953125003\" y1=\"95.0\" y2=\"395.0\" stroke=\"black\" stroke-width=\"3\" /><line x1=\"3533.4226953125003\" x2=\"3533.4226953125003\" y1=\"145.0\" y2=\"295.0\" stroke=\"black\" stroke-width=\"3\" /><line x1=\"3573.4226953125003\" x2=\"3573.4226953125003\" y1=\"195.0\" y2=\"245.0\" stroke=\"black\" stroke-width=\"3\" /><line x1=\"3880.11052734375\" x2=\"3880.11052734375\" y1=\"145.0\" y2=\"395.0\" stroke=\"black\" stroke-width=\"3\" /><line x1=\"3935.1650000000004\" x2=\"3935.1650000000004\" y1=\"195.0\" y2=\"295.0\" stroke=\"black\" stroke-width=\"3\" /><line x1=\"4102.0971875000005\" x2=\"4102.0971875000005\" y1=\"145.0\" y2=\"395.0\" stroke=\"black\" stroke-width=\"3\" /><line x1=\"4142.0971875000005\" x2=\"4142.0971875000005\" y1=\"195.0\" y2=\"295.0\" stroke=\"black\" stroke-width=\"3\" /><line x1=\"4334.423203125\" x2=\"4334.423203125\" y1=\"195.0\" y2=\"345.0\" stroke=\"black\" stroke-width=\"3\" /><line x1=\"4399.81703125\" x2=\"4399.81703125\" y1=\"245.0\" y2=\"295.0\" stroke=\"black\" stroke-width=\"3\" /><line x1=\"4566.749218749999\" x2=\"4566.749218749999\" y1=\"195.0\" y2=\"345.0\" stroke=\"black\" stroke-width=\"3\" /><line x1=\"4606.749218749999\" x2=\"4606.749218749999\" y1=\"245.0\" y2=\"295.0\" stroke=\"black\" stroke-width=\"3\" /><line x1=\"4809.075234374999\" x2=\"4809.075234374999\" y1=\"245.0\" y2=\"345.0\" stroke=\"black\" stroke-width=\"3\" /><line x1=\"4996.349492187498\" x2=\"4996.349492187498\" y1=\"245.0\" y2=\"345.0\" stroke=\"black\" stroke-width=\"3\" /><line x1=\"5148.229921874998\" x2=\"5148.229921874998\" y1=\"245.0\" y2=\"395.0\" stroke=\"black\" stroke-width=\"3\" /><line x1=\"5188.229921874998\" x2=\"5188.229921874998\" y1=\"295.0\" y2=\"345.0\" stroke=\"black\" stroke-width=\"3\" /><line x1=\"5474.811523437497\" x2=\"5474.811523437497\" y1=\"245.0\" y2=\"395.0\" stroke=\"black\" stroke-width=\"3\" /><line x1=\"5514.811523437497\" x2=\"5514.811523437497\" y1=\"295.0\" y2=\"345.0\" stroke=\"black\" stroke-width=\"3\" /><line x1=\"5836.786953124997\" x2=\"5836.786953124997\" y1=\"295.0\" y2=\"395.0\" stroke=\"black\" stroke-width=\"3\" /><line x1=\"6024.061210937496\" x2=\"6024.061210937496\" y1=\"295.0\" y2=\"395.0\" stroke=\"black\" stroke-width=\"3\" /><line x1=\"6211.335468749996\" x2=\"6211.335468749996\" y1=\"345.0\" y2=\"395.0\" stroke=\"black\" stroke-width=\"3\" /><line x1=\"6398.609726562495\" x2=\"6398.609726562495\" y1=\"345.0\" y2=\"395.0\" stroke=\"black\" stroke-width=\"3\" /><line x1=\"5454.811523437497\" x2=\"5454.811523437497\" y1=\"5.0\" y2=\"15.0\" stroke=\"black\" stroke-width=\"3\" /><line x1=\"5544.811523437497\" x2=\"5544.811523437497\" y1=\"5.0\" y2=\"15.0\" stroke=\"black\" stroke-width=\"3\" /><line x1=\"5454.811523437497\" x2=\"5454.811523437497\" y1=\"425.0\" y2=\"435.0\" stroke=\"black\" stroke-width=\"3\" /><line x1=\"5544.811523437497\" x2=\"5544.811523437497\" y1=\"425.0\" y2=\"435.0\" stroke=\"black\" stroke-width=\"3\" /><line x1=\"5128.229921874998\" x2=\"5128.229921874998\" y1=\"5.0\" y2=\"15.0\" stroke=\"black\" stroke-width=\"3\" /><line x1=\"5218.229921874998\" x2=\"5218.229921874998\" y1=\"5.0\" y2=\"15.0\" stroke=\"black\" stroke-width=\"3\" /><line x1=\"5128.229921874998\" x2=\"5128.229921874998\" y1=\"425.0\" y2=\"435.0\" stroke=\"black\" stroke-width=\"3\" /><line x1=\"5218.229921874998\" x2=\"5218.229921874998\" y1=\"425.0\" y2=\"435.0\" stroke=\"black\" stroke-width=\"3\" /><line x1=\"4546.749218749999\" x2=\"4546.749218749999\" y1=\"5.0\" y2=\"15.0\" stroke=\"black\" stroke-width=\"3\" /><line x1=\"4636.749218749999\" x2=\"4636.749218749999\" y1=\"5.0\" y2=\"15.0\" stroke=\"black\" stroke-width=\"3\" /><line x1=\"4546.749218749999\" x2=\"4546.749218749999\" y1=\"425.0\" y2=\"435.0\" stroke=\"black\" stroke-width=\"3\" /><line x1=\"4636.749218749999\" x2=\"4636.749218749999\" y1=\"425.0\" y2=\"435.0\" stroke=\"black\" stroke-width=\"3\" /><line x1=\"4289.029375\" x2=\"4289.029375\" y1=\"5.0\" y2=\"15.0\" stroke=\"black\" stroke-width=\"3\" /><line x1=\"4429.81703125\" x2=\"4429.81703125\" y1=\"5.0\" y2=\"15.0\" stroke=\"black\" stroke-width=\"3\" /><line x1=\"4289.029375\" x2=\"4289.029375\" y1=\"425.0\" y2=\"435.0\" stroke=\"black\" stroke-width=\"3\" /><line x1=\"4429.81703125\" x2=\"4429.81703125\" y1=\"425.0\" y2=\"435.0\" stroke=\"black\" stroke-width=\"3\" /><line x1=\"4082.0971875000005\" x2=\"4082.0971875000005\" y1=\"5.0\" y2=\"15.0\" stroke=\"black\" stroke-width=\"3\" /><line x1=\"4172.0971875000005\" x2=\"4172.0971875000005\" y1=\"5.0\" y2=\"15.0\" stroke=\"black\" stroke-width=\"3\" /><line x1=\"4082.0971875000005\" x2=\"4082.0971875000005\" y1=\"425.0\" y2=\"435.0\" stroke=\"black\" stroke-width=\"3\" /><line x1=\"4172.0971875000005\" x2=\"4172.0971875000005\" y1=\"425.0\" y2=\"435.0\" stroke=\"black\" stroke-width=\"3\" /><line x1=\"3845.0560546875004\" x2=\"3845.0560546875004\" y1=\"5.0\" y2=\"15.0\" stroke=\"black\" stroke-width=\"3\" /><line x1=\"3965.1650000000004\" x2=\"3965.1650000000004\" y1=\"5.0\" y2=\"15.0\" stroke=\"black\" stroke-width=\"3\" /><line x1=\"3845.0560546875004\" x2=\"3845.0560546875004\" y1=\"425.0\" y2=\"435.0\" stroke=\"black\" stroke-width=\"3\" /><line x1=\"3965.1650000000004\" x2=\"3965.1650000000004\" y1=\"425.0\" y2=\"435.0\" stroke=\"black\" stroke-width=\"3\" /><line x1=\"3473.4226953125003\" x2=\"3473.4226953125003\" y1=\"5.0\" y2=\"15.0\" stroke=\"black\" stroke-width=\"3\" /><line x1=\"3603.4226953125003\" x2=\"3603.4226953125003\" y1=\"5.0\" y2=\"15.0\" stroke=\"black\" stroke-width=\"3\" /><line x1=\"3473.4226953125003\" x2=\"3473.4226953125003\" y1=\"425.0\" y2=\"435.0\" stroke=\"black\" stroke-width=\"3\" /><line x1=\"3603.4226953125003\" x2=\"3603.4226953125003\" y1=\"425.0\" y2=\"435.0\" stroke=\"black\" stroke-width=\"3\" /><line x1=\"3071.680390625\" x2=\"3071.680390625\" y1=\"5.0\" y2=\"15.0\" stroke=\"black\" stroke-width=\"3\" /><line x1=\"3231.7893359375003\" x2=\"3231.7893359375003\" y1=\"5.0\" y2=\"15.0\" stroke=\"black\" stroke-width=\"3\" /><line x1=\"3071.680390625\" x2=\"3071.680390625\" y1=\"425.0\" y2=\"435.0\" stroke=\"black\" stroke-width=\"3\" /><line x1=\"3231.7893359375003\" x2=\"3231.7893359375003\" y1=\"425.0\" y2=\"435.0\" stroke=\"black\" stroke-width=\"3\" /><line x1=\"2700.04703125\" x2=\"2700.04703125\" y1=\"5.0\" y2=\"15.0\" stroke=\"black\" stroke-width=\"3\" /><line x1=\"2830.04703125\" x2=\"2830.04703125\" y1=\"5.0\" y2=\"15.0\" stroke=\"black\" stroke-width=\"3\" /><line x1=\"2700.04703125\" x2=\"2700.04703125\" y1=\"425.0\" y2=\"435.0\" stroke=\"black\" stroke-width=\"3\" /><line x1=\"2830.04703125\" x2=\"2830.04703125\" y1=\"425.0\" y2=\"435.0\" stroke=\"black\" stroke-width=\"3\" /><line x1=\"2328.413671875\" x2=\"2328.413671875\" y1=\"5.0\" y2=\"15.0\" stroke=\"black\" stroke-width=\"3\" /><line x1=\"2458.413671875\" x2=\"2458.413671875\" y1=\"5.0\" y2=\"15.0\" stroke=\"black\" stroke-width=\"3\" /><line x1=\"2328.413671875\" x2=\"2328.413671875\" y1=\"425.0\" y2=\"435.0\" stroke=\"black\" stroke-width=\"3\" /><line x1=\"2458.413671875\" x2=\"2458.413671875\" y1=\"425.0\" y2=\"435.0\" stroke=\"black\" stroke-width=\"3\" /><line x1=\"2081.481484375\" x2=\"2081.481484375\" y1=\"5.0\" y2=\"15.0\" stroke=\"black\" stroke-width=\"3\" /><line x1=\"2211.481484375\" x2=\"2211.481484375\" y1=\"5.0\" y2=\"15.0\" stroke=\"black\" stroke-width=\"3\" /><line x1=\"2081.481484375\" x2=\"2081.481484375\" y1=\"425.0\" y2=\"435.0\" stroke=\"black\" stroke-width=\"3\" /><line x1=\"2211.481484375\" x2=\"2211.481484375\" y1=\"425.0\" y2=\"435.0\" stroke=\"black\" stroke-width=\"3\" /><line x1=\"1834.5492968750002\" x2=\"1834.5492968750002\" y1=\"5.0\" y2=\"15.0\" stroke=\"black\" stroke-width=\"3\" /><line x1=\"1964.5492968750002\" x2=\"1964.5492968750002\" y1=\"5.0\" y2=\"15.0\" stroke=\"black\" stroke-width=\"3\" /><line x1=\"1834.5492968750002\" x2=\"1834.5492968750002\" y1=\"425.0\" y2=\"435.0\" stroke=\"black\" stroke-width=\"3\" /><line x1=\"1964.5492968750002\" x2=\"1964.5492968750002\" y1=\"425.0\" y2=\"435.0\" stroke=\"black\" stroke-width=\"3\" /><line x1=\"1627.6171093750002\" x2=\"1627.6171093750002\" y1=\"5.0\" y2=\"15.0\" stroke=\"black\" stroke-width=\"3\" /><line x1=\"1717.6171093750002\" x2=\"1717.6171093750002\" y1=\"5.0\" y2=\"15.0\" stroke=\"black\" stroke-width=\"3\" /><line x1=\"1627.6171093750002\" x2=\"1627.6171093750002\" y1=\"425.0\" y2=\"435.0\" stroke=\"black\" stroke-width=\"3\" /><line x1=\"1717.6171093750002\" x2=\"1717.6171093750002\" y1=\"425.0\" y2=\"435.0\" stroke=\"black\" stroke-width=\"3\" /><line x1=\"1420.684921875\" x2=\"1420.684921875\" y1=\"5.0\" y2=\"15.0\" stroke=\"black\" stroke-width=\"3\" /><line x1=\"1510.684921875\" x2=\"1510.684921875\" y1=\"5.0\" y2=\"15.0\" stroke=\"black\" stroke-width=\"3\" /><line x1=\"1420.684921875\" x2=\"1420.684921875\" y1=\"425.0\" y2=\"435.0\" stroke=\"black\" stroke-width=\"3\" /><line x1=\"1510.684921875\" x2=\"1510.684921875\" y1=\"425.0\" y2=\"435.0\" stroke=\"black\" stroke-width=\"3\" /><line x1=\"1094.1033203125\" x2=\"1094.1033203125\" y1=\"5.0\" y2=\"15.0\" stroke=\"black\" stroke-width=\"3\" /><line x1=\"1184.1033203125\" x2=\"1184.1033203125\" y1=\"5.0\" y2=\"15.0\" stroke=\"black\" stroke-width=\"3\" /><line x1=\"1094.1033203125\" x2=\"1094.1033203125\" y1=\"425.0\" y2=\"435.0\" stroke=\"black\" stroke-width=\"3\" /><line x1=\"1184.1033203125\" x2=\"1184.1033203125\" y1=\"425.0\" y2=\"435.0\" stroke=\"black\" stroke-width=\"3\" /><line x1=\"767.5217187500001\" x2=\"767.5217187500001\" y1=\"5.0\" y2=\"15.0\" stroke=\"black\" stroke-width=\"3\" /><line x1=\"857.5217187500001\" x2=\"857.5217187500001\" y1=\"5.0\" y2=\"15.0\" stroke=\"black\" stroke-width=\"3\" /><line x1=\"767.5217187500001\" x2=\"767.5217187500001\" y1=\"425.0\" y2=\"435.0\" stroke=\"black\" stroke-width=\"3\" /><line x1=\"857.5217187500001\" x2=\"857.5217187500001\" y1=\"425.0\" y2=\"435.0\" stroke=\"black\" stroke-width=\"3\" /><rect x=\"10.0\" y=\"25.0\" width=\"40\" height=\"40\" stroke=\"black\" fill=\"white\" stroke-width=\"0\" /><text x=\"30.0\" y=\"45.0\" dominant-baseline=\"middle\" text-anchor=\"middle\" font-size=\"14px\" font-family=\"sans\\-serif:style=normal:variant=normal:weight=normal:stretch=normal:size=10.0\">0: </text><rect x=\"10.0\" y=\"75.0\" width=\"40\" height=\"40\" stroke=\"black\" fill=\"white\" stroke-width=\"0\" /><text x=\"30.0\" y=\"95.0\" dominant-baseline=\"middle\" text-anchor=\"middle\" font-size=\"14px\" font-family=\"sans\\-serif:style=normal:variant=normal:weight=normal:stretch=normal:size=10.0\">1: </text><rect x=\"10.0\" y=\"125.0\" width=\"40\" height=\"40\" stroke=\"black\" fill=\"white\" stroke-width=\"0\" /><text x=\"30.0\" y=\"145.0\" dominant-baseline=\"middle\" text-anchor=\"middle\" font-size=\"14px\" font-family=\"sans\\-serif:style=normal:variant=normal:weight=normal:stretch=normal:size=10.0\">2: </text><rect x=\"10.0\" y=\"175.0\" width=\"40\" height=\"40\" stroke=\"black\" fill=\"white\" stroke-width=\"0\" /><text x=\"30.0\" y=\"195.0\" dominant-baseline=\"middle\" text-anchor=\"middle\" font-size=\"14px\" font-family=\"sans\\-serif:style=normal:variant=normal:weight=normal:stretch=normal:size=10.0\">3: </text><rect x=\"10.0\" y=\"225.0\" width=\"40\" height=\"40\" stroke=\"black\" fill=\"white\" stroke-width=\"0\" /><text x=\"30.0\" y=\"245.0\" dominant-baseline=\"middle\" text-anchor=\"middle\" font-size=\"14px\" font-family=\"sans\\-serif:style=normal:variant=normal:weight=normal:stretch=normal:size=10.0\">4: </text><rect x=\"10.0\" y=\"275.0\" width=\"40\" height=\"40\" stroke=\"black\" fill=\"white\" stroke-width=\"0\" /><text x=\"30.0\" y=\"295.0\" dominant-baseline=\"middle\" text-anchor=\"middle\" font-size=\"14px\" font-family=\"sans\\-serif:style=normal:variant=normal:weight=normal:stretch=normal:size=10.0\">5: </text><rect x=\"10.0\" y=\"325.0\" width=\"40\" height=\"40\" stroke=\"black\" fill=\"white\" stroke-width=\"0\" /><text x=\"30.0\" y=\"345.0\" dominant-baseline=\"middle\" text-anchor=\"middle\" font-size=\"14px\" font-family=\"sans\\-serif:style=normal:variant=normal:weight=normal:stretch=normal:size=10.0\">6: </text><rect x=\"10.0\" y=\"375.0\" width=\"40\" height=\"40\" stroke=\"black\" fill=\"white\" stroke-width=\"0\" /><text x=\"30.0\" y=\"395.0\" dominant-baseline=\"middle\" text-anchor=\"middle\" font-size=\"14px\" font-family=\"sans\\-serif:style=normal:variant=normal:weight=normal:stretch=normal:size=10.0\">7: </text><rect x=\"70.0\" y=\"25.0\" width=\"40\" height=\"40\" stroke=\"black\" fill=\"white\" stroke-width=\"1\" /><text x=\"90.0\" y=\"45.0\" dominant-baseline=\"middle\" text-anchor=\"middle\" font-size=\"18px\" font-family=\"sans\\-serif:style=normal:variant=normal:weight=normal:stretch=normal:size=10.0\">H</text><rect x=\"70.0\" y=\"75.0\" width=\"40\" height=\"40\" stroke=\"black\" fill=\"white\" stroke-width=\"1\" /><text x=\"90.0\" y=\"95.0\" dominant-baseline=\"middle\" text-anchor=\"middle\" font-size=\"18px\" font-family=\"sans\\-serif:style=normal:variant=normal:weight=normal:stretch=normal:size=10.0\">H</text><rect x=\"70.0\" y=\"125.0\" width=\"40\" height=\"40\" stroke=\"black\" fill=\"white\" stroke-width=\"1\" /><text x=\"90.0\" y=\"145.0\" dominant-baseline=\"middle\" text-anchor=\"middle\" font-size=\"18px\" font-family=\"sans\\-serif:style=normal:variant=normal:weight=normal:stretch=normal:size=10.0\">H</text><rect x=\"70.0\" y=\"175.0\" width=\"40\" height=\"40\" stroke=\"black\" fill=\"white\" stroke-width=\"1\" /><text x=\"90.0\" y=\"195.0\" dominant-baseline=\"middle\" text-anchor=\"middle\" font-size=\"18px\" font-family=\"sans\\-serif:style=normal:variant=normal:weight=normal:stretch=normal:size=10.0\">H</text><rect x=\"70.0\" y=\"225.0\" width=\"40\" height=\"40\" stroke=\"black\" fill=\"white\" stroke-width=\"1\" /><text x=\"90.0\" y=\"245.0\" dominant-baseline=\"middle\" text-anchor=\"middle\" font-size=\"18px\" font-family=\"sans\\-serif:style=normal:variant=normal:weight=normal:stretch=normal:size=10.0\">H</text><rect x=\"70.0\" y=\"275.0\" width=\"40\" height=\"40\" stroke=\"black\" fill=\"white\" stroke-width=\"1\" /><text x=\"90.0\" y=\"295.0\" dominant-baseline=\"middle\" text-anchor=\"middle\" font-size=\"18px\" font-family=\"sans\\-serif:style=normal:variant=normal:weight=normal:stretch=normal:size=10.0\">H</text><rect x=\"70.0\" y=\"325.0\" width=\"40\" height=\"40\" stroke=\"black\" fill=\"white\" stroke-width=\"1\" /><text x=\"90.0\" y=\"345.0\" dominant-baseline=\"middle\" text-anchor=\"middle\" font-size=\"18px\" font-family=\"sans\\-serif:style=normal:variant=normal:weight=normal:stretch=normal:size=10.0\">H</text><rect x=\"70.0\" y=\"375.0\" width=\"40\" height=\"40\" stroke=\"black\" fill=\"white\" stroke-width=\"1\" /><text x=\"90.0\" y=\"395.0\" dominant-baseline=\"middle\" text-anchor=\"middle\" font-size=\"18px\" font-family=\"sans\\-serif:style=normal:variant=normal:weight=normal:stretch=normal:size=10.0\">H</text><circle cx=\"150.0\" cy=\"45.0\" r=\"10.0\" /><rect x=\"130.0\" y=\"75.0\" width=\"40\" height=\"40\" stroke=\"black\" fill=\"white\" stroke-width=\"1\" /><text x=\"150.0\" y=\"95.0\" dominant-baseline=\"middle\" text-anchor=\"middle\" font-size=\"18px\" font-family=\"sans\\-serif:style=normal:variant=normal:weight=normal:stretch=normal:size=10.0\">X</text><rect x=\"190.0\" y=\"75.0\" width=\"81.88042968750001\" height=\"40\" stroke=\"black\" fill=\"white\" stroke-width=\"1\" /><text x=\"230.94021484375\" y=\"95.0\" dominant-baseline=\"middle\" text-anchor=\"middle\" font-size=\"14px\" font-family=\"sans\\-serif:style=normal:variant=normal:weight=normal:stretch=normal:size=10.0\">Rz(0.5*γ0)</text><circle cx=\"311.8804296875\" cy=\"45.0\" r=\"10.0\" /><rect x=\"291.8804296875\" y=\"75.0\" width=\"40\" height=\"40\" stroke=\"black\" fill=\"white\" stroke-width=\"1\" /><text x=\"311.8804296875\" y=\"95.0\" dominant-baseline=\"middle\" text-anchor=\"middle\" font-size=\"18px\" font-family=\"sans\\-serif:style=normal:variant=normal:weight=normal:stretch=normal:size=10.0\">X</text><rect x=\"351.8804296875\" y=\"25.0\" width=\"81.88042968750001\" height=\"40\" stroke=\"black\" fill=\"white\" stroke-width=\"1\" /><text x=\"392.82064453125\" y=\"45.0\" dominant-baseline=\"middle\" text-anchor=\"middle\" font-size=\"14px\" font-family=\"sans\\-serif:style=normal:variant=normal:weight=normal:stretch=normal:size=10.0\">Rz(1.0*γ0)</text><rect x=\"351.8804296875\" y=\"75.0\" width=\"81.88042968750001\" height=\"40\" stroke=\"black\" fill=\"white\" stroke-width=\"1\" /><text x=\"392.82064453125\" y=\"95.0\" dominant-baseline=\"middle\" text-anchor=\"middle\" font-size=\"14px\" font-family=\"sans\\-serif:style=normal:variant=normal:weight=normal:stretch=normal:size=10.0\">Rz(1.0*γ0)</text><circle cx=\"473.760859375\" cy=\"45.0\" r=\"10.0\" /><rect x=\"453.760859375\" y=\"125.0\" width=\"40\" height=\"40\" stroke=\"black\" fill=\"white\" stroke-width=\"1\" /><text x=\"473.760859375\" y=\"145.0\" dominant-baseline=\"middle\" text-anchor=\"middle\" font-size=\"18px\" font-family=\"sans\\-serif:style=normal:variant=normal:weight=normal:stretch=normal:size=10.0\">X</text><rect x=\"513.760859375\" y=\"125.0\" width=\"81.88042968750001\" height=\"40\" stroke=\"black\" fill=\"white\" stroke-width=\"1\" /><text x=\"554.70107421875\" y=\"145.0\" dominant-baseline=\"middle\" text-anchor=\"middle\" font-size=\"14px\" font-family=\"sans\\-serif:style=normal:variant=normal:weight=normal:stretch=normal:size=10.0\">Rz(0.5*γ0)</text><circle cx=\"635.6412890625\" cy=\"45.0\" r=\"10.0\" /><rect x=\"615.6412890625\" y=\"125.0\" width=\"40\" height=\"40\" stroke=\"black\" fill=\"white\" stroke-width=\"1\" /><text x=\"635.6412890625\" y=\"145.0\" dominant-baseline=\"middle\" text-anchor=\"middle\" font-size=\"18px\" font-family=\"sans\\-serif:style=normal:variant=normal:weight=normal:stretch=normal:size=10.0\">X</text><rect x=\"675.6412890625\" y=\"25.0\" width=\"81.88042968750001\" height=\"40\" stroke=\"black\" fill=\"white\" stroke-width=\"1\" /><text x=\"716.5815039062501\" y=\"45.0\" dominant-baseline=\"middle\" text-anchor=\"middle\" font-size=\"14px\" font-family=\"sans\\-serif:style=normal:variant=normal:weight=normal:stretch=normal:size=10.0\">Rz(1.0*γ0)</text><rect x=\"675.6412890625\" y=\"125.0\" width=\"81.88042968750001\" height=\"40\" stroke=\"black\" fill=\"white\" stroke-width=\"1\" /><text x=\"716.5815039062501\" y=\"145.0\" dominant-baseline=\"middle\" text-anchor=\"middle\" font-size=\"14px\" font-family=\"sans\\-serif:style=normal:variant=normal:weight=normal:stretch=normal:size=10.0\">Rz(1.0*γ0)</text><circle cx=\"787.5217187500001\" cy=\"45.0\" r=\"10.0\" /><rect x=\"767.5217187500001\" y=\"175.0\" width=\"40\" height=\"40\" stroke=\"black\" fill=\"white\" stroke-width=\"1\" /><text x=\"787.5217187500001\" y=\"195.0\" dominant-baseline=\"middle\" text-anchor=\"middle\" font-size=\"18px\" font-family=\"sans\\-serif:style=normal:variant=normal:weight=normal:stretch=normal:size=10.0\">X</text><circle cx=\"827.5217187500001\" cy=\"95.0\" r=\"10.0\" /><rect x=\"807.5217187500001\" y=\"125.0\" width=\"40\" height=\"40\" stroke=\"black\" fill=\"white\" stroke-width=\"1\" /><text x=\"827.5217187500001\" y=\"145.0\" dominant-baseline=\"middle\" text-anchor=\"middle\" font-size=\"18px\" font-family=\"sans\\-serif:style=normal:variant=normal:weight=normal:stretch=normal:size=10.0\">X</text><rect x=\"877.5217187500001\" y=\"175.0\" width=\"206.58160156250003\" height=\"40\" stroke=\"black\" fill=\"white\" stroke-width=\"1\" /><text x=\"980.8125195312501\" y=\"195.0\" dominant-baseline=\"middle\" text-anchor=\"middle\" font-size=\"14px\" font-family=\"sans\\-serif:style=normal:variant=normal:weight=normal:stretch=normal:size=10.0\">Rz(0.353553390593274*γ0)</text><rect x=\"877.5217187500001\" y=\"125.0\" width=\"206.58160156250003\" height=\"40\" stroke=\"black\" fill=\"white\" stroke-width=\"1\" /><text x=\"980.8125195312501\" y=\"145.0\" dominant-baseline=\"middle\" text-anchor=\"middle\" font-size=\"14px\" font-family=\"sans\\-serif:style=normal:variant=normal:weight=normal:stretch=normal:size=10.0\">Rz(0.353553390593274*γ0)</text><circle cx=\"1114.1033203125\" cy=\"45.0\" r=\"10.0\" /><rect x=\"1094.1033203125\" y=\"175.0\" width=\"40\" height=\"40\" stroke=\"black\" fill=\"white\" stroke-width=\"1\" /><text x=\"1114.1033203125\" y=\"195.0\" dominant-baseline=\"middle\" text-anchor=\"middle\" font-size=\"18px\" font-family=\"sans\\-serif:style=normal:variant=normal:weight=normal:stretch=normal:size=10.0\">X</text><circle cx=\"1154.1033203125\" cy=\"95.0\" r=\"10.0\" /><rect x=\"1134.1033203125\" y=\"125.0\" width=\"40\" height=\"40\" stroke=\"black\" fill=\"white\" stroke-width=\"1\" /><text x=\"1154.1033203125\" y=\"145.0\" dominant-baseline=\"middle\" text-anchor=\"middle\" font-size=\"18px\" font-family=\"sans\\-serif:style=normal:variant=normal:weight=normal:stretch=normal:size=10.0\">X</text><rect x=\"1204.1033203125\" y=\"25.0\" width=\"206.58160156250003\" height=\"40\" stroke=\"black\" fill=\"white\" stroke-width=\"1\" /><text x=\"1307.39412109375\" y=\"45.0\" dominant-baseline=\"middle\" text-anchor=\"middle\" font-size=\"14px\" font-family=\"sans\\-serif:style=normal:variant=normal:weight=normal:stretch=normal:size=10.0\">Rz(0.707106781186547*γ0)</text><rect x=\"1204.1033203125\" y=\"175.0\" width=\"206.58160156250003\" height=\"40\" stroke=\"black\" fill=\"white\" stroke-width=\"1\" /><text x=\"1307.39412109375\" y=\"195.0\" dominant-baseline=\"middle\" text-anchor=\"middle\" font-size=\"14px\" font-family=\"sans\\-serif:style=normal:variant=normal:weight=normal:stretch=normal:size=10.0\">Rz(0.707106781186547*γ0)</text><rect x=\"1204.1033203125\" y=\"75.0\" width=\"206.58160156250003\" height=\"40\" stroke=\"black\" fill=\"white\" stroke-width=\"1\" /><text x=\"1307.39412109375\" y=\"95.0\" dominant-baseline=\"middle\" text-anchor=\"middle\" font-size=\"14px\" font-family=\"sans\\-serif:style=normal:variant=normal:weight=normal:stretch=normal:size=10.0\">Rz(0.707106781186547*γ0)</text><rect x=\"1204.1033203125\" y=\"125.0\" width=\"206.58160156250003\" height=\"40\" stroke=\"black\" fill=\"white\" stroke-width=\"1\" /><text x=\"1307.39412109375\" y=\"145.0\" dominant-baseline=\"middle\" text-anchor=\"middle\" font-size=\"14px\" font-family=\"sans\\-serif:style=normal:variant=normal:weight=normal:stretch=normal:size=10.0\">Rz(0.707106781186547*γ0)</text><circle cx=\"1440.684921875\" cy=\"45.0\" r=\"10.0\" /><rect x=\"1420.684921875\" y=\"275.0\" width=\"40\" height=\"40\" stroke=\"black\" fill=\"white\" stroke-width=\"1\" /><text x=\"1440.684921875\" y=\"295.0\" dominant-baseline=\"middle\" text-anchor=\"middle\" font-size=\"18px\" font-family=\"sans\\-serif:style=normal:variant=normal:weight=normal:stretch=normal:size=10.0\">X</text><circle cx=\"1480.684921875\" cy=\"95.0\" r=\"10.0\" /><rect x=\"1460.684921875\" y=\"175.0\" width=\"40\" height=\"40\" stroke=\"black\" fill=\"white\" stroke-width=\"1\" /><text x=\"1480.684921875\" y=\"195.0\" dominant-baseline=\"middle\" text-anchor=\"middle\" font-size=\"18px\" font-family=\"sans\\-serif:style=normal:variant=normal:weight=normal:stretch=normal:size=10.0\">X</text><rect x=\"1530.684921875\" y=\"275.0\" width=\"86.93218750000001\" height=\"40\" stroke=\"black\" fill=\"white\" stroke-width=\"1\" /><text x=\"1574.1510156250001\" y=\"295.0\" dominant-baseline=\"middle\" text-anchor=\"middle\" font-size=\"14px\" font-family=\"sans\\-serif:style=normal:variant=normal:weight=normal:stretch=normal:size=10.0\">Rz(-0.5*γ0)</text><rect x=\"1530.684921875\" y=\"175.0\" width=\"86.93218750000001\" height=\"40\" stroke=\"black\" fill=\"white\" stroke-width=\"1\" /><text x=\"1574.1510156250001\" y=\"195.0\" dominant-baseline=\"middle\" text-anchor=\"middle\" font-size=\"14px\" font-family=\"sans\\-serif:style=normal:variant=normal:weight=normal:stretch=normal:size=10.0\">Rz(0.5*γ0)</text><circle cx=\"1647.6171093750002\" cy=\"45.0\" r=\"10.0\" /><rect x=\"1627.6171093750002\" y=\"275.0\" width=\"40\" height=\"40\" stroke=\"black\" fill=\"white\" stroke-width=\"1\" /><text x=\"1647.6171093750002\" y=\"295.0\" dominant-baseline=\"middle\" text-anchor=\"middle\" font-size=\"18px\" font-family=\"sans\\-serif:style=normal:variant=normal:weight=normal:stretch=normal:size=10.0\">X</text><circle cx=\"1687.6171093750002\" cy=\"95.0\" r=\"10.0\" /><rect x=\"1667.6171093750002\" y=\"175.0\" width=\"40\" height=\"40\" stroke=\"black\" fill=\"white\" stroke-width=\"1\" /><text x=\"1687.6171093750002\" y=\"195.0\" dominant-baseline=\"middle\" text-anchor=\"middle\" font-size=\"18px\" font-family=\"sans\\-serif:style=normal:variant=normal:weight=normal:stretch=normal:size=10.0\">X</text><rect x=\"1737.6171093750002\" y=\"25.0\" width=\"86.93218750000001\" height=\"40\" stroke=\"black\" fill=\"white\" stroke-width=\"1\" /><text x=\"1781.0832031250002\" y=\"45.0\" dominant-baseline=\"middle\" text-anchor=\"middle\" font-size=\"14px\" font-family=\"sans\\-serif:style=normal:variant=normal:weight=normal:stretch=normal:size=10.0\">Rz(-1.0*γ0)</text><rect x=\"1737.6171093750002\" y=\"275.0\" width=\"86.93218750000001\" height=\"40\" stroke=\"black\" fill=\"white\" stroke-width=\"1\" /><text x=\"1781.0832031250002\" y=\"295.0\" dominant-baseline=\"middle\" text-anchor=\"middle\" font-size=\"14px\" font-family=\"sans\\-serif:style=normal:variant=normal:weight=normal:stretch=normal:size=10.0\">Rz(-1.0*γ0)</text><rect x=\"1737.6171093750002\" y=\"75.0\" width=\"86.93218750000001\" height=\"40\" stroke=\"black\" fill=\"white\" stroke-width=\"1\" /><text x=\"1781.0832031250002\" y=\"95.0\" dominant-baseline=\"middle\" text-anchor=\"middle\" font-size=\"14px\" font-family=\"sans\\-serif:style=normal:variant=normal:weight=normal:stretch=normal:size=10.0\">Rz(1.0*γ0)</text><rect x=\"1737.6171093750002\" y=\"175.0\" width=\"86.93218750000001\" height=\"40\" stroke=\"black\" fill=\"white\" stroke-width=\"1\" /><text x=\"1781.0832031250002\" y=\"195.0\" dominant-baseline=\"middle\" text-anchor=\"middle\" font-size=\"14px\" font-family=\"sans\\-serif:style=normal:variant=normal:weight=normal:stretch=normal:size=10.0\">Rz(1.0*γ0)</text><circle cx=\"1854.5492968750002\" cy=\"45.0\" r=\"10.0\" /><rect x=\"1834.5492968750002\" y=\"325.0\" width=\"40\" height=\"40\" stroke=\"black\" fill=\"white\" stroke-width=\"1\" /><text x=\"1854.5492968750002\" y=\"345.0\" dominant-baseline=\"middle\" text-anchor=\"middle\" font-size=\"18px\" font-family=\"sans\\-serif:style=normal:variant=normal:weight=normal:stretch=normal:size=10.0\">X</text><circle cx=\"1894.5492968750002\" cy=\"95.0\" r=\"10.0\" /><rect x=\"1874.5492968750002\" y=\"225.0\" width=\"40\" height=\"40\" stroke=\"black\" fill=\"white\" stroke-width=\"1\" /><text x=\"1894.5492968750002\" y=\"245.0\" dominant-baseline=\"middle\" text-anchor=\"middle\" font-size=\"18px\" font-family=\"sans\\-serif:style=normal:variant=normal:weight=normal:stretch=normal:size=10.0\">X</text><circle cx=\"1934.5492968750002\" cy=\"145.0\" r=\"10.0\" /><rect x=\"1914.5492968750002\" y=\"175.0\" width=\"40\" height=\"40\" stroke=\"black\" fill=\"white\" stroke-width=\"1\" /><text x=\"1934.5492968750002\" y=\"195.0\" dominant-baseline=\"middle\" text-anchor=\"middle\" font-size=\"18px\" font-family=\"sans\\-serif:style=normal:variant=normal:weight=normal:stretch=normal:size=10.0\">X</text><rect x=\"1984.5492968750002\" y=\"325.0\" width=\"86.93218750000001\" height=\"40\" stroke=\"black\" fill=\"white\" stroke-width=\"1\" /><text x=\"2028.0153906250002\" y=\"345.0\" dominant-baseline=\"middle\" text-anchor=\"middle\" font-size=\"14px\" font-family=\"sans\\-serif:style=normal:variant=normal:weight=normal:stretch=normal:size=10.0\">Rz(-0.5*γ0)</text><rect x=\"1984.5492968750002\" y=\"225.0\" width=\"86.93218750000001\" height=\"40\" stroke=\"black\" fill=\"white\" stroke-width=\"1\" /><text x=\"2028.0153906250002\" y=\"245.0\" dominant-baseline=\"middle\" text-anchor=\"middle\" font-size=\"14px\" font-family=\"sans\\-serif:style=normal:variant=normal:weight=normal:stretch=normal:size=10.0\">Rz(-0.5*γ0)</text><rect x=\"1984.5492968750002\" y=\"175.0\" width=\"86.93218750000001\" height=\"40\" stroke=\"black\" fill=\"white\" stroke-width=\"1\" /><text x=\"2028.0153906250002\" y=\"195.0\" dominant-baseline=\"middle\" text-anchor=\"middle\" font-size=\"14px\" font-family=\"sans\\-serif:style=normal:variant=normal:weight=normal:stretch=normal:size=10.0\">Rz(0.5*γ0)</text><circle cx=\"2101.481484375\" cy=\"45.0\" r=\"10.0\" /><rect x=\"2081.481484375\" y=\"325.0\" width=\"40\" height=\"40\" stroke=\"black\" fill=\"white\" stroke-width=\"1\" /><text x=\"2101.481484375\" y=\"345.0\" dominant-baseline=\"middle\" text-anchor=\"middle\" font-size=\"18px\" font-family=\"sans\\-serif:style=normal:variant=normal:weight=normal:stretch=normal:size=10.0\">X</text><circle cx=\"2141.481484375\" cy=\"95.0\" r=\"10.0\" /><rect x=\"2121.481484375\" y=\"225.0\" width=\"40\" height=\"40\" stroke=\"black\" fill=\"white\" stroke-width=\"1\" /><text x=\"2141.481484375\" y=\"245.0\" dominant-baseline=\"middle\" text-anchor=\"middle\" font-size=\"18px\" font-family=\"sans\\-serif:style=normal:variant=normal:weight=normal:stretch=normal:size=10.0\">X</text><circle cx=\"2181.481484375\" cy=\"145.0\" r=\"10.0\" /><rect x=\"2161.481484375\" y=\"175.0\" width=\"40\" height=\"40\" stroke=\"black\" fill=\"white\" stroke-width=\"1\" /><text x=\"2181.481484375\" y=\"195.0\" dominant-baseline=\"middle\" text-anchor=\"middle\" font-size=\"18px\" font-family=\"sans\\-serif:style=normal:variant=normal:weight=normal:stretch=normal:size=10.0\">X</text><rect x=\"2231.481484375\" y=\"25.0\" width=\"86.93218750000001\" height=\"40\" stroke=\"black\" fill=\"white\" stroke-width=\"1\" /><text x=\"2274.947578125\" y=\"45.0\" dominant-baseline=\"middle\" text-anchor=\"middle\" font-size=\"14px\" font-family=\"sans\\-serif:style=normal:variant=normal:weight=normal:stretch=normal:size=10.0\">Rz(-1.0*γ0)</text><rect x=\"2231.481484375\" y=\"325.0\" width=\"86.93218750000001\" height=\"40\" stroke=\"black\" fill=\"white\" stroke-width=\"1\" /><text x=\"2274.947578125\" y=\"345.0\" dominant-baseline=\"middle\" text-anchor=\"middle\" font-size=\"14px\" font-family=\"sans\\-serif:style=normal:variant=normal:weight=normal:stretch=normal:size=10.0\">Rz(-1.0*γ0)</text><rect x=\"2231.481484375\" y=\"75.0\" width=\"86.93218750000001\" height=\"40\" stroke=\"black\" fill=\"white\" stroke-width=\"1\" /><text x=\"2274.947578125\" y=\"95.0\" dominant-baseline=\"middle\" text-anchor=\"middle\" font-size=\"14px\" font-family=\"sans\\-serif:style=normal:variant=normal:weight=normal:stretch=normal:size=10.0\">Rz(-1.0*γ0)</text><rect x=\"2231.481484375\" y=\"225.0\" width=\"86.93218750000001\" height=\"40\" stroke=\"black\" fill=\"white\" stroke-width=\"1\" /><text x=\"2274.947578125\" y=\"245.0\" dominant-baseline=\"middle\" text-anchor=\"middle\" font-size=\"14px\" font-family=\"sans\\-serif:style=normal:variant=normal:weight=normal:stretch=normal:size=10.0\">Rz(-1.0*γ0)</text><rect x=\"2231.481484375\" y=\"125.0\" width=\"86.93218750000001\" height=\"40\" stroke=\"black\" fill=\"white\" stroke-width=\"1\" /><text x=\"2274.947578125\" y=\"145.0\" dominant-baseline=\"middle\" text-anchor=\"middle\" font-size=\"14px\" font-family=\"sans\\-serif:style=normal:variant=normal:weight=normal:stretch=normal:size=10.0\">Rz(1.0*γ0)</text><rect x=\"2231.481484375\" y=\"175.0\" width=\"86.93218750000001\" height=\"40\" stroke=\"black\" fill=\"white\" stroke-width=\"1\" /><text x=\"2274.947578125\" y=\"195.0\" dominant-baseline=\"middle\" text-anchor=\"middle\" font-size=\"14px\" font-family=\"sans\\-serif:style=normal:variant=normal:weight=normal:stretch=normal:size=10.0\">Rz(1.0*γ0)</text><circle cx=\"2348.413671875\" cy=\"45.0\" r=\"10.0\" /><rect x=\"2328.413671875\" y=\"375.0\" width=\"40\" height=\"40\" stroke=\"black\" fill=\"white\" stroke-width=\"1\" /><text x=\"2348.413671875\" y=\"395.0\" dominant-baseline=\"middle\" text-anchor=\"middle\" font-size=\"18px\" font-family=\"sans\\-serif:style=normal:variant=normal:weight=normal:stretch=normal:size=10.0\">X</text><circle cx=\"2388.413671875\" cy=\"95.0\" r=\"10.0\" /><rect x=\"2368.413671875\" y=\"325.0\" width=\"40\" height=\"40\" stroke=\"black\" fill=\"white\" stroke-width=\"1\" /><text x=\"2388.413671875\" y=\"345.0\" dominant-baseline=\"middle\" text-anchor=\"middle\" font-size=\"18px\" font-family=\"sans\\-serif:style=normal:variant=normal:weight=normal:stretch=normal:size=10.0\">X</text><circle cx=\"2428.413671875\" cy=\"145.0\" r=\"10.0\" /><rect x=\"2408.413671875\" y=\"225.0\" width=\"40\" height=\"40\" stroke=\"black\" fill=\"white\" stroke-width=\"1\" /><text x=\"2428.413671875\" y=\"245.0\" dominant-baseline=\"middle\" text-anchor=\"middle\" font-size=\"18px\" font-family=\"sans\\-serif:style=normal:variant=normal:weight=normal:stretch=normal:size=10.0\">X</text><rect x=\"2478.413671875\" y=\"375.0\" width=\"211.63335937500003\" height=\"40\" stroke=\"black\" fill=\"white\" stroke-width=\"1\" /><text x=\"2584.2303515625\" y=\"395.0\" dominant-baseline=\"middle\" text-anchor=\"middle\" font-size=\"14px\" font-family=\"sans\\-serif:style=normal:variant=normal:weight=normal:stretch=normal:size=10.0\">Rz(-0.353553390593274*γ0)</text><rect x=\"2478.413671875\" y=\"325.0\" width=\"211.63335937500003\" height=\"40\" stroke=\"black\" fill=\"white\" stroke-width=\"1\" /><text x=\"2584.2303515625\" y=\"345.0\" dominant-baseline=\"middle\" text-anchor=\"middle\" font-size=\"14px\" font-family=\"sans\\-serif:style=normal:variant=normal:weight=normal:stretch=normal:size=10.0\">Rz(-0.353553390593274*γ0)</text><rect x=\"2478.413671875\" y=\"225.0\" width=\"211.63335937500003\" height=\"40\" stroke=\"black\" fill=\"white\" stroke-width=\"1\" /><text x=\"2584.2303515625\" y=\"245.0\" dominant-baseline=\"middle\" text-anchor=\"middle\" font-size=\"14px\" font-family=\"sans\\-serif:style=normal:variant=normal:weight=normal:stretch=normal:size=10.0\">Rz(-0.5*γ0)</text><circle cx=\"2720.04703125\" cy=\"45.0\" r=\"10.0\" /><rect x=\"2700.04703125\" y=\"375.0\" width=\"40\" height=\"40\" stroke=\"black\" fill=\"white\" stroke-width=\"1\" /><text x=\"2720.04703125\" y=\"395.0\" dominant-baseline=\"middle\" text-anchor=\"middle\" font-size=\"18px\" font-family=\"sans\\-serif:style=normal:variant=normal:weight=normal:stretch=normal:size=10.0\">X</text><circle cx=\"2760.04703125\" cy=\"95.0\" r=\"10.0\" /><rect x=\"2740.04703125\" y=\"325.0\" width=\"40\" height=\"40\" stroke=\"black\" fill=\"white\" stroke-width=\"1\" /><text x=\"2760.04703125\" y=\"345.0\" dominant-baseline=\"middle\" text-anchor=\"middle\" font-size=\"18px\" font-family=\"sans\\-serif:style=normal:variant=normal:weight=normal:stretch=normal:size=10.0\">X</text><circle cx=\"2800.04703125\" cy=\"145.0\" r=\"10.0\" /><rect x=\"2780.04703125\" y=\"225.0\" width=\"40\" height=\"40\" stroke=\"black\" fill=\"white\" stroke-width=\"1\" /><text x=\"2800.04703125\" y=\"245.0\" dominant-baseline=\"middle\" text-anchor=\"middle\" font-size=\"18px\" font-family=\"sans\\-serif:style=normal:variant=normal:weight=normal:stretch=normal:size=10.0\">X</text><rect x=\"2850.04703125\" y=\"25.0\" width=\"211.63335937500003\" height=\"40\" stroke=\"black\" fill=\"white\" stroke-width=\"1\" /><text x=\"2955.8637109375\" y=\"45.0\" dominant-baseline=\"middle\" text-anchor=\"middle\" font-size=\"14px\" font-family=\"sans\\-serif:style=normal:variant=normal:weight=normal:stretch=normal:size=10.0\">Rz(-0.707106781186547*γ0)</text><rect x=\"2850.04703125\" y=\"375.0\" width=\"211.63335937500003\" height=\"40\" stroke=\"black\" fill=\"white\" stroke-width=\"1\" /><text x=\"2955.8637109375\" y=\"395.0\" dominant-baseline=\"middle\" text-anchor=\"middle\" font-size=\"14px\" font-family=\"sans\\-serif:style=normal:variant=normal:weight=normal:stretch=normal:size=10.0\">Rz(-0.707106781186547*γ0)</text><rect x=\"2850.04703125\" y=\"75.0\" width=\"211.63335937500003\" height=\"40\" stroke=\"black\" fill=\"white\" stroke-width=\"1\" /><text x=\"2955.8637109375\" y=\"95.0\" dominant-baseline=\"middle\" text-anchor=\"middle\" font-size=\"14px\" font-family=\"sans\\-serif:style=normal:variant=normal:weight=normal:stretch=normal:size=10.0\">Rz(-0.707106781186547*γ0)</text><rect x=\"2850.04703125\" y=\"325.0\" width=\"211.63335937500003\" height=\"40\" stroke=\"black\" fill=\"white\" stroke-width=\"1\" /><text x=\"2955.8637109375\" y=\"345.0\" dominant-baseline=\"middle\" text-anchor=\"middle\" font-size=\"14px\" font-family=\"sans\\-serif:style=normal:variant=normal:weight=normal:stretch=normal:size=10.0\">Rz(-0.707106781186547*γ0)</text><rect x=\"2850.04703125\" y=\"125.0\" width=\"211.63335937500003\" height=\"40\" stroke=\"black\" fill=\"white\" stroke-width=\"1\" /><text x=\"2955.8637109375\" y=\"145.0\" dominant-baseline=\"middle\" text-anchor=\"middle\" font-size=\"14px\" font-family=\"sans\\-serif:style=normal:variant=normal:weight=normal:stretch=normal:size=10.0\">Rz(-1.0*γ0)</text><rect x=\"2850.04703125\" y=\"225.0\" width=\"211.63335937500003\" height=\"40\" stroke=\"black\" fill=\"white\" stroke-width=\"1\" /><text x=\"2955.8637109375\" y=\"245.0\" dominant-baseline=\"middle\" text-anchor=\"middle\" font-size=\"14px\" font-family=\"sans\\-serif:style=normal:variant=normal:weight=normal:stretch=normal:size=10.0\">Rz(-1.0*γ0)</text><circle cx=\"3106.73486328125\" cy=\"95.0\" r=\"10.0\" /><rect x=\"3071.680390625\" y=\"375.0\" width=\"70.1089453125\" height=\"40\" stroke=\"black\" fill=\"white\" stroke-width=\"1\" /><text x=\"3106.73486328125\" y=\"395.0\" dominant-baseline=\"middle\" text-anchor=\"middle\" font-size=\"18px\" font-family=\"sans\\-serif:style=normal:variant=normal:weight=normal:stretch=normal:size=10.0\">X</text><circle cx=\"3161.7893359375003\" cy=\"145.0\" r=\"10.0\" /><rect x=\"3141.7893359375003\" y=\"275.0\" width=\"40\" height=\"40\" stroke=\"black\" fill=\"white\" stroke-width=\"1\" /><text x=\"3161.7893359375003\" y=\"295.0\" dominant-baseline=\"middle\" text-anchor=\"middle\" font-size=\"18px\" font-family=\"sans\\-serif:style=normal:variant=normal:weight=normal:stretch=normal:size=10.0\">X</text><circle cx=\"3201.7893359375003\" cy=\"195.0\" r=\"10.0\" /><rect x=\"3181.7893359375003\" y=\"225.0\" width=\"40\" height=\"40\" stroke=\"black\" fill=\"white\" stroke-width=\"1\" /><text x=\"3201.7893359375003\" y=\"245.0\" dominant-baseline=\"middle\" text-anchor=\"middle\" font-size=\"18px\" font-family=\"sans\\-serif:style=normal:variant=normal:weight=normal:stretch=normal:size=10.0\">X</text><rect x=\"3071.680390625\" y=\"25.0\" width=\"70.1089453125\" height=\"40\" stroke=\"black\" fill=\"white\" stroke-width=\"1\" /><text x=\"3106.73486328125\" y=\"45.0\" dominant-baseline=\"middle\" text-anchor=\"middle\" font-size=\"14px\" font-family=\"sans\\-serif:style=normal:variant=normal:weight=normal:stretch=normal:size=10.0\">Rx(2*β0)</text><rect x=\"3251.7893359375003\" y=\"375.0\" width=\"211.63335937500003\" height=\"40\" stroke=\"black\" fill=\"white\" stroke-width=\"1\" /><text x=\"3357.606015625\" y=\"395.0\" dominant-baseline=\"middle\" text-anchor=\"middle\" font-size=\"14px\" font-family=\"sans\\-serif:style=normal:variant=normal:weight=normal:stretch=normal:size=10.0\">Rz(-0.5*γ0)</text><rect x=\"3251.7893359375003\" y=\"275.0\" width=\"211.63335937500003\" height=\"40\" stroke=\"black\" fill=\"white\" stroke-width=\"1\" /><text x=\"3357.606015625\" y=\"295.0\" dominant-baseline=\"middle\" text-anchor=\"middle\" font-size=\"14px\" font-family=\"sans\\-serif:style=normal:variant=normal:weight=normal:stretch=normal:size=10.0\">Rz(-0.353553390593274*γ0)</text><rect x=\"3251.7893359375003\" y=\"225.0\" width=\"211.63335937500003\" height=\"40\" stroke=\"black\" fill=\"white\" stroke-width=\"1\" /><text x=\"3357.606015625\" y=\"245.0\" dominant-baseline=\"middle\" text-anchor=\"middle\" font-size=\"14px\" font-family=\"sans\\-serif:style=normal:variant=normal:weight=normal:stretch=normal:size=10.0\">Rz(-0.353553390593274*γ0)</text><rect x=\"3251.7893359375003\" y=\"25.0\" width=\"211.63335937500003\" height=\"40\" stroke=\"black\" fill=\"white\" stroke-width=\"1\" /><text x=\"3357.606015625\" y=\"45.0\" dominant-baseline=\"middle\" text-anchor=\"middle\" font-size=\"18px\" font-family=\"sans\\-serif:style=normal:variant=normal:weight=normal:stretch=normal:size=10.0\">M</text><circle cx=\"3493.4226953125003\" cy=\"95.0\" r=\"10.0\" /><rect x=\"3473.4226953125003\" y=\"375.0\" width=\"40\" height=\"40\" stroke=\"black\" fill=\"white\" stroke-width=\"1\" /><text x=\"3493.4226953125003\" y=\"395.0\" dominant-baseline=\"middle\" text-anchor=\"middle\" font-size=\"18px\" font-family=\"sans\\-serif:style=normal:variant=normal:weight=normal:stretch=normal:size=10.0\">X</text><circle cx=\"3533.4226953125003\" cy=\"145.0\" r=\"10.0\" /><rect x=\"3513.4226953125003\" y=\"275.0\" width=\"40\" height=\"40\" stroke=\"black\" fill=\"white\" stroke-width=\"1\" /><text x=\"3533.4226953125003\" y=\"295.0\" dominant-baseline=\"middle\" text-anchor=\"middle\" font-size=\"18px\" font-family=\"sans\\-serif:style=normal:variant=normal:weight=normal:stretch=normal:size=10.0\">X</text><circle cx=\"3573.4226953125003\" cy=\"195.0\" r=\"10.0\" /><rect x=\"3553.4226953125003\" y=\"225.0\" width=\"40\" height=\"40\" stroke=\"black\" fill=\"white\" stroke-width=\"1\" /><text x=\"3573.4226953125003\" y=\"245.0\" dominant-baseline=\"middle\" text-anchor=\"middle\" font-size=\"18px\" font-family=\"sans\\-serif:style=normal:variant=normal:weight=normal:stretch=normal:size=10.0\">X</text><rect x=\"3623.4226953125003\" y=\"75.0\" width=\"211.63335937500003\" height=\"40\" stroke=\"black\" fill=\"white\" stroke-width=\"1\" /><text x=\"3729.239375\" y=\"95.0\" dominant-baseline=\"middle\" text-anchor=\"middle\" font-size=\"14px\" font-family=\"sans\\-serif:style=normal:variant=normal:weight=normal:stretch=normal:size=10.0\">Rz(-1.0*γ0)</text><rect x=\"3623.4226953125003\" y=\"375.0\" width=\"211.63335937500003\" height=\"40\" stroke=\"black\" fill=\"white\" stroke-width=\"1\" /><text x=\"3729.239375\" y=\"395.0\" dominant-baseline=\"middle\" text-anchor=\"middle\" font-size=\"14px\" font-family=\"sans\\-serif:style=normal:variant=normal:weight=normal:stretch=normal:size=10.0\">Rz(-1.0*γ0)</text><rect x=\"3623.4226953125003\" y=\"125.0\" width=\"211.63335937500003\" height=\"40\" stroke=\"black\" fill=\"white\" stroke-width=\"1\" /><text x=\"3729.239375\" y=\"145.0\" dominant-baseline=\"middle\" text-anchor=\"middle\" font-size=\"14px\" font-family=\"sans\\-serif:style=normal:variant=normal:weight=normal:stretch=normal:size=10.0\">Rz(-0.707106781186547*γ0)</text><rect x=\"3623.4226953125003\" y=\"275.0\" width=\"211.63335937500003\" height=\"40\" stroke=\"black\" fill=\"white\" stroke-width=\"1\" /><text x=\"3729.239375\" y=\"295.0\" dominant-baseline=\"middle\" text-anchor=\"middle\" font-size=\"14px\" font-family=\"sans\\-serif:style=normal:variant=normal:weight=normal:stretch=normal:size=10.0\">Rz(-0.707106781186547*γ0)</text><rect x=\"3623.4226953125003\" y=\"175.0\" width=\"211.63335937500003\" height=\"40\" stroke=\"black\" fill=\"white\" stroke-width=\"1\" /><text x=\"3729.239375\" y=\"195.0\" dominant-baseline=\"middle\" text-anchor=\"middle\" font-size=\"14px\" font-family=\"sans\\-serif:style=normal:variant=normal:weight=normal:stretch=normal:size=10.0\">Rz(-0.707106781186547*γ0)</text><rect x=\"3623.4226953125003\" y=\"225.0\" width=\"211.63335937500003\" height=\"40\" stroke=\"black\" fill=\"white\" stroke-width=\"1\" /><text x=\"3729.239375\" y=\"245.0\" dominant-baseline=\"middle\" text-anchor=\"middle\" font-size=\"14px\" font-family=\"sans\\-serif:style=normal:variant=normal:weight=normal:stretch=normal:size=10.0\">Rz(-0.707106781186547*γ0)</text><circle cx=\"3880.11052734375\" cy=\"145.0\" r=\"10.0\" /><rect x=\"3845.0560546875004\" y=\"375.0\" width=\"70.1089453125\" height=\"40\" stroke=\"black\" fill=\"white\" stroke-width=\"1\" /><text x=\"3880.11052734375\" y=\"395.0\" dominant-baseline=\"middle\" text-anchor=\"middle\" font-size=\"18px\" font-family=\"sans\\-serif:style=normal:variant=normal:weight=normal:stretch=normal:size=10.0\">X</text><circle cx=\"3935.1650000000004\" cy=\"195.0\" r=\"10.0\" /><rect x=\"3915.1650000000004\" y=\"275.0\" width=\"40\" height=\"40\" stroke=\"black\" fill=\"white\" stroke-width=\"1\" /><text x=\"3935.1650000000004\" y=\"295.0\" dominant-baseline=\"middle\" text-anchor=\"middle\" font-size=\"18px\" font-family=\"sans\\-serif:style=normal:variant=normal:weight=normal:stretch=normal:size=10.0\">X</text><rect x=\"3845.0560546875004\" y=\"75.0\" width=\"70.1089453125\" height=\"40\" stroke=\"black\" fill=\"white\" stroke-width=\"1\" /><text x=\"3880.11052734375\" y=\"95.0\" dominant-baseline=\"middle\" text-anchor=\"middle\" font-size=\"14px\" font-family=\"sans\\-serif:style=normal:variant=normal:weight=normal:stretch=normal:size=10.0\">Rx(2*β0)</text><rect x=\"3985.1650000000004\" y=\"375.0\" width=\"86.93218750000001\" height=\"40\" stroke=\"black\" fill=\"white\" stroke-width=\"1\" /><text x=\"4028.63109375\" y=\"395.0\" dominant-baseline=\"middle\" text-anchor=\"middle\" font-size=\"14px\" font-family=\"sans\\-serif:style=normal:variant=normal:weight=normal:stretch=normal:size=10.0\">Rz(-0.5*γ0)</text><rect x=\"3985.1650000000004\" y=\"275.0\" width=\"86.93218750000001\" height=\"40\" stroke=\"black\" fill=\"white\" stroke-width=\"1\" /><text x=\"4028.63109375\" y=\"295.0\" dominant-baseline=\"middle\" text-anchor=\"middle\" font-size=\"14px\" font-family=\"sans\\-serif:style=normal:variant=normal:weight=normal:stretch=normal:size=10.0\">Rz(-0.5*γ0)</text><rect x=\"3985.1650000000004\" y=\"75.0\" width=\"86.93218750000001\" height=\"40\" stroke=\"black\" fill=\"white\" stroke-width=\"1\" /><text x=\"4028.63109375\" y=\"95.0\" dominant-baseline=\"middle\" text-anchor=\"middle\" font-size=\"18px\" font-family=\"sans\\-serif:style=normal:variant=normal:weight=normal:stretch=normal:size=10.0\">M</text><circle cx=\"4102.0971875000005\" cy=\"145.0\" r=\"10.0\" /><rect x=\"4082.0971875000005\" y=\"375.0\" width=\"40\" height=\"40\" stroke=\"black\" fill=\"white\" stroke-width=\"1\" /><text x=\"4102.0971875000005\" y=\"395.0\" dominant-baseline=\"middle\" text-anchor=\"middle\" font-size=\"18px\" font-family=\"sans\\-serif:style=normal:variant=normal:weight=normal:stretch=normal:size=10.0\">X</text><circle cx=\"4142.0971875000005\" cy=\"195.0\" r=\"10.0\" /><rect x=\"4122.0971875000005\" y=\"275.0\" width=\"40\" height=\"40\" stroke=\"black\" fill=\"white\" stroke-width=\"1\" /><text x=\"4142.0971875000005\" y=\"295.0\" dominant-baseline=\"middle\" text-anchor=\"middle\" font-size=\"18px\" font-family=\"sans\\-serif:style=normal:variant=normal:weight=normal:stretch=normal:size=10.0\">X</text><rect x=\"4192.0971875000005\" y=\"125.0\" width=\"86.93218750000001\" height=\"40\" stroke=\"black\" fill=\"white\" stroke-width=\"1\" /><text x=\"4235.563281250001\" y=\"145.0\" dominant-baseline=\"middle\" text-anchor=\"middle\" font-size=\"14px\" font-family=\"sans\\-serif:style=normal:variant=normal:weight=normal:stretch=normal:size=10.0\">Rz(-1.0*γ0)</text><rect x=\"4192.0971875000005\" y=\"375.0\" width=\"86.93218750000001\" height=\"40\" stroke=\"black\" fill=\"white\" stroke-width=\"1\" /><text x=\"4235.563281250001\" y=\"395.0\" dominant-baseline=\"middle\" text-anchor=\"middle\" font-size=\"14px\" font-family=\"sans\\-serif:style=normal:variant=normal:weight=normal:stretch=normal:size=10.0\">Rz(-1.0*γ0)</text><rect x=\"4192.0971875000005\" y=\"175.0\" width=\"86.93218750000001\" height=\"40\" stroke=\"black\" fill=\"white\" stroke-width=\"1\" /><text x=\"4235.563281250001\" y=\"195.0\" dominant-baseline=\"middle\" text-anchor=\"middle\" font-size=\"14px\" font-family=\"sans\\-serif:style=normal:variant=normal:weight=normal:stretch=normal:size=10.0\">Rz(-1.0*γ0)</text><rect x=\"4192.0971875000005\" y=\"275.0\" width=\"86.93218750000001\" height=\"40\" stroke=\"black\" fill=\"white\" stroke-width=\"1\" /><text x=\"4235.563281250001\" y=\"295.0\" dominant-baseline=\"middle\" text-anchor=\"middle\" font-size=\"14px\" font-family=\"sans\\-serif:style=normal:variant=normal:weight=normal:stretch=normal:size=10.0\">Rz(-1.0*γ0)</text><circle cx=\"4334.423203125\" cy=\"195.0\" r=\"10.0\" /><rect x=\"4289.029375\" y=\"325.0\" width=\"90.78765625000001\" height=\"40\" stroke=\"black\" fill=\"white\" stroke-width=\"1\" /><text x=\"4334.423203125\" y=\"345.0\" dominant-baseline=\"middle\" text-anchor=\"middle\" font-size=\"18px\" font-family=\"sans\\-serif:style=normal:variant=normal:weight=normal:stretch=normal:size=10.0\">X</text><circle cx=\"4399.81703125\" cy=\"245.0\" r=\"10.0\" /><rect x=\"4379.81703125\" y=\"275.0\" width=\"40\" height=\"40\" stroke=\"black\" fill=\"white\" stroke-width=\"1\" /><text x=\"4399.81703125\" y=\"295.0\" dominant-baseline=\"middle\" text-anchor=\"middle\" font-size=\"18px\" font-family=\"sans\\-serif:style=normal:variant=normal:weight=normal:stretch=normal:size=10.0\">X</text><rect x=\"4289.029375\" y=\"125.0\" width=\"90.78765625000001\" height=\"40\" stroke=\"black\" fill=\"white\" stroke-width=\"1\" /><text x=\"4334.423203125\" y=\"145.0\" dominant-baseline=\"middle\" text-anchor=\"middle\" font-size=\"14px\" font-family=\"sans\\-serif:style=normal:variant=normal:weight=normal:stretch=normal:size=10.0\">Rz(10.0*γ0)</text><rect x=\"4449.81703125\" y=\"325.0\" width=\"86.93218750000001\" height=\"40\" stroke=\"black\" fill=\"white\" stroke-width=\"1\" /><text x=\"4493.283125\" y=\"345.0\" dominant-baseline=\"middle\" text-anchor=\"middle\" font-size=\"14px\" font-family=\"sans\\-serif:style=normal:variant=normal:weight=normal:stretch=normal:size=10.0\">Rz(-0.5*γ0)</text><rect x=\"4449.81703125\" y=\"275.0\" width=\"86.93218750000001\" height=\"40\" stroke=\"black\" fill=\"white\" stroke-width=\"1\" /><text x=\"4493.283125\" y=\"295.0\" dominant-baseline=\"middle\" text-anchor=\"middle\" font-size=\"14px\" font-family=\"sans\\-serif:style=normal:variant=normal:weight=normal:stretch=normal:size=10.0\">Rz(0.5*γ0)</text><rect x=\"4449.81703125\" y=\"125.0\" width=\"86.93218750000001\" height=\"40\" stroke=\"black\" fill=\"white\" stroke-width=\"1\" /><text x=\"4493.283125\" y=\"145.0\" dominant-baseline=\"middle\" text-anchor=\"middle\" font-size=\"14px\" font-family=\"sans\\-serif:style=normal:variant=normal:weight=normal:stretch=normal:size=10.0\">Rx(2*β0)</text><circle cx=\"4566.749218749999\" cy=\"195.0\" r=\"10.0\" /><rect x=\"4546.749218749999\" y=\"325.0\" width=\"40\" height=\"40\" stroke=\"black\" fill=\"white\" stroke-width=\"1\" /><text x=\"4566.749218749999\" y=\"345.0\" dominant-baseline=\"middle\" text-anchor=\"middle\" font-size=\"18px\" font-family=\"sans\\-serif:style=normal:variant=normal:weight=normal:stretch=normal:size=10.0\">X</text><circle cx=\"4606.749218749999\" cy=\"245.0\" r=\"10.0\" /><rect x=\"4586.749218749999\" y=\"275.0\" width=\"40\" height=\"40\" stroke=\"black\" fill=\"white\" stroke-width=\"1\" /><text x=\"4606.749218749999\" y=\"295.0\" dominant-baseline=\"middle\" text-anchor=\"middle\" font-size=\"18px\" font-family=\"sans\\-serif:style=normal:variant=normal:weight=normal:stretch=normal:size=10.0\">X</text><rect x=\"4546.749218749999\" y=\"125.0\" width=\"40\" height=\"40\" stroke=\"black\" fill=\"white\" stroke-width=\"1\" /><text x=\"4566.749218749999\" y=\"145.0\" dominant-baseline=\"middle\" text-anchor=\"middle\" font-size=\"18px\" font-family=\"sans\\-serif:style=normal:variant=normal:weight=normal:stretch=normal:size=10.0\">M</text><rect x=\"4656.749218749999\" y=\"175.0\" width=\"86.93218750000001\" height=\"40\" stroke=\"black\" fill=\"white\" stroke-width=\"1\" /><text x=\"4700.2153124999995\" y=\"195.0\" dominant-baseline=\"middle\" text-anchor=\"middle\" font-size=\"14px\" font-family=\"sans\\-serif:style=normal:variant=normal:weight=normal:stretch=normal:size=10.0\">Rz(-1.0*γ0)</text><rect x=\"4656.749218749999\" y=\"325.0\" width=\"86.93218750000001\" height=\"40\" stroke=\"black\" fill=\"white\" stroke-width=\"1\" /><text x=\"4700.2153124999995\" y=\"345.0\" dominant-baseline=\"middle\" text-anchor=\"middle\" font-size=\"14px\" font-family=\"sans\\-serif:style=normal:variant=normal:weight=normal:stretch=normal:size=10.0\">Rz(-1.0*γ0)</text><rect x=\"4656.749218749999\" y=\"225.0\" width=\"86.93218750000001\" height=\"40\" stroke=\"black\" fill=\"white\" stroke-width=\"1\" /><text x=\"4700.2153124999995\" y=\"245.0\" dominant-baseline=\"middle\" text-anchor=\"middle\" font-size=\"14px\" font-family=\"sans\\-serif:style=normal:variant=normal:weight=normal:stretch=normal:size=10.0\">Rz(1.0*γ0)</text><rect x=\"4656.749218749999\" y=\"275.0\" width=\"86.93218750000001\" height=\"40\" stroke=\"black\" fill=\"white\" stroke-width=\"1\" /><text x=\"4700.2153124999995\" y=\"295.0\" dominant-baseline=\"middle\" text-anchor=\"middle\" font-size=\"14px\" font-family=\"sans\\-serif:style=normal:variant=normal:weight=normal:stretch=normal:size=10.0\">Rz(1.0*γ0)</text><circle cx=\"4809.075234374999\" cy=\"245.0\" r=\"10.0\" /><rect x=\"4763.681406249999\" y=\"325.0\" width=\"90.78765625000001\" height=\"40\" stroke=\"black\" fill=\"white\" stroke-width=\"1\" /><text x=\"4809.075234374999\" y=\"345.0\" dominant-baseline=\"middle\" text-anchor=\"middle\" font-size=\"18px\" font-family=\"sans\\-serif:style=normal:variant=normal:weight=normal:stretch=normal:size=10.0\">X</text><rect x=\"4763.681406249999\" y=\"175.0\" width=\"90.78765625000001\" height=\"40\" stroke=\"black\" fill=\"white\" stroke-width=\"1\" /><text x=\"4809.075234374999\" y=\"195.0\" dominant-baseline=\"middle\" text-anchor=\"middle\" font-size=\"14px\" font-family=\"sans\\-serif:style=normal:variant=normal:weight=normal:stretch=normal:size=10.0\">Rz(10.0*γ0)</text><rect x=\"4874.4690624999985\" y=\"325.0\" width=\"81.88042968750001\" height=\"40\" stroke=\"black\" fill=\"white\" stroke-width=\"1\" /><text x=\"4915.409277343749\" y=\"345.0\" dominant-baseline=\"middle\" text-anchor=\"middle\" font-size=\"14px\" font-family=\"sans\\-serif:style=normal:variant=normal:weight=normal:stretch=normal:size=10.0\">Rz(0.5*γ0)</text><rect x=\"4874.4690624999985\" y=\"175.0\" width=\"81.88042968750001\" height=\"40\" stroke=\"black\" fill=\"white\" stroke-width=\"1\" /><text x=\"4915.409277343749\" y=\"195.0\" dominant-baseline=\"middle\" text-anchor=\"middle\" font-size=\"14px\" font-family=\"sans\\-serif:style=normal:variant=normal:weight=normal:stretch=normal:size=10.0\">Rx(2*β0)</text><circle cx=\"4996.349492187498\" cy=\"245.0\" r=\"10.0\" /><rect x=\"4976.349492187498\" y=\"325.0\" width=\"40\" height=\"40\" stroke=\"black\" fill=\"white\" stroke-width=\"1\" /><text x=\"4996.349492187498\" y=\"345.0\" dominant-baseline=\"middle\" text-anchor=\"middle\" font-size=\"18px\" font-family=\"sans\\-serif:style=normal:variant=normal:weight=normal:stretch=normal:size=10.0\">X</text><rect x=\"4976.349492187498\" y=\"175.0\" width=\"40\" height=\"40\" stroke=\"black\" fill=\"white\" stroke-width=\"1\" /><text x=\"4996.349492187498\" y=\"195.0\" dominant-baseline=\"middle\" text-anchor=\"middle\" font-size=\"18px\" font-family=\"sans\\-serif:style=normal:variant=normal:weight=normal:stretch=normal:size=10.0\">M</text><rect x=\"5036.349492187498\" y=\"225.0\" width=\"81.88042968750001\" height=\"40\" stroke=\"black\" fill=\"white\" stroke-width=\"1\" /><text x=\"5077.289707031248\" y=\"245.0\" dominant-baseline=\"middle\" text-anchor=\"middle\" font-size=\"14px\" font-family=\"sans\\-serif:style=normal:variant=normal:weight=normal:stretch=normal:size=10.0\">Rz(1.0*γ0)</text><rect x=\"5036.349492187498\" y=\"325.0\" width=\"81.88042968750001\" height=\"40\" stroke=\"black\" fill=\"white\" stroke-width=\"1\" /><text x=\"5077.289707031248\" y=\"345.0\" dominant-baseline=\"middle\" text-anchor=\"middle\" font-size=\"14px\" font-family=\"sans\\-serif:style=normal:variant=normal:weight=normal:stretch=normal:size=10.0\">Rz(1.0*γ0)</text><circle cx=\"5148.229921874998\" cy=\"245.0\" r=\"10.0\" /><rect x=\"5128.229921874998\" y=\"375.0\" width=\"40\" height=\"40\" stroke=\"black\" fill=\"white\" stroke-width=\"1\" /><text x=\"5148.229921874998\" y=\"395.0\" dominant-baseline=\"middle\" text-anchor=\"middle\" font-size=\"18px\" font-family=\"sans\\-serif:style=normal:variant=normal:weight=normal:stretch=normal:size=10.0\">X</text><circle cx=\"5188.229921874998\" cy=\"295.0\" r=\"10.0\" /><rect x=\"5168.229921874998\" y=\"325.0\" width=\"40\" height=\"40\" stroke=\"black\" fill=\"white\" stroke-width=\"1\" /><text x=\"5188.229921874998\" y=\"345.0\" dominant-baseline=\"middle\" text-anchor=\"middle\" font-size=\"18px\" font-family=\"sans\\-serif:style=normal:variant=normal:weight=normal:stretch=normal:size=10.0\">X</text><rect x=\"5238.229921874998\" y=\"375.0\" width=\"206.58160156250003\" height=\"40\" stroke=\"black\" fill=\"white\" stroke-width=\"1\" /><text x=\"5341.520722656248\" y=\"395.0\" dominant-baseline=\"middle\" text-anchor=\"middle\" font-size=\"14px\" font-family=\"sans\\-serif:style=normal:variant=normal:weight=normal:stretch=normal:size=10.0\">Rz(0.353553390593274*γ0)</text><rect x=\"5238.229921874998\" y=\"325.0\" width=\"206.58160156250003\" height=\"40\" stroke=\"black\" fill=\"white\" stroke-width=\"1\" /><text x=\"5341.520722656248\" y=\"345.0\" dominant-baseline=\"middle\" text-anchor=\"middle\" font-size=\"14px\" font-family=\"sans\\-serif:style=normal:variant=normal:weight=normal:stretch=normal:size=10.0\">Rz(0.353553390593274*γ0)</text><circle cx=\"5474.811523437497\" cy=\"245.0\" r=\"10.0\" /><rect x=\"5454.811523437497\" y=\"375.0\" width=\"40\" height=\"40\" stroke=\"black\" fill=\"white\" stroke-width=\"1\" /><text x=\"5474.811523437497\" y=\"395.0\" dominant-baseline=\"middle\" text-anchor=\"middle\" font-size=\"18px\" font-family=\"sans\\-serif:style=normal:variant=normal:weight=normal:stretch=normal:size=10.0\">X</text><circle cx=\"5514.811523437497\" cy=\"295.0\" r=\"10.0\" /><rect x=\"5494.811523437497\" y=\"325.0\" width=\"40\" height=\"40\" stroke=\"black\" fill=\"white\" stroke-width=\"1\" /><text x=\"5514.811523437497\" y=\"345.0\" dominant-baseline=\"middle\" text-anchor=\"middle\" font-size=\"18px\" font-family=\"sans\\-serif:style=normal:variant=normal:weight=normal:stretch=normal:size=10.0\">X</text><rect x=\"5564.811523437497\" y=\"225.0\" width=\"206.58160156250003\" height=\"40\" stroke=\"black\" fill=\"white\" stroke-width=\"1\" /><text x=\"5668.1023242187475\" y=\"245.0\" dominant-baseline=\"middle\" text-anchor=\"middle\" font-size=\"14px\" font-family=\"sans\\-serif:style=normal:variant=normal:weight=normal:stretch=normal:size=10.0\">Rz(0.707106781186547*γ0)</text><rect x=\"5564.811523437497\" y=\"375.0\" width=\"206.58160156250003\" height=\"40\" stroke=\"black\" fill=\"white\" stroke-width=\"1\" /><text x=\"5668.1023242187475\" y=\"395.0\" dominant-baseline=\"middle\" text-anchor=\"middle\" font-size=\"14px\" font-family=\"sans\\-serif:style=normal:variant=normal:weight=normal:stretch=normal:size=10.0\">Rz(0.707106781186547*γ0)</text><rect x=\"5564.811523437497\" y=\"275.0\" width=\"206.58160156250003\" height=\"40\" stroke=\"black\" fill=\"white\" stroke-width=\"1\" /><text x=\"5668.1023242187475\" y=\"295.0\" dominant-baseline=\"middle\" text-anchor=\"middle\" font-size=\"14px\" font-family=\"sans\\-serif:style=normal:variant=normal:weight=normal:stretch=normal:size=10.0\">Rz(0.707106781186547*γ0)</text><rect x=\"5564.811523437497\" y=\"325.0\" width=\"206.58160156250003\" height=\"40\" stroke=\"black\" fill=\"white\" stroke-width=\"1\" /><text x=\"5668.1023242187475\" y=\"345.0\" dominant-baseline=\"middle\" text-anchor=\"middle\" font-size=\"14px\" font-family=\"sans\\-serif:style=normal:variant=normal:weight=normal:stretch=normal:size=10.0\">Rz(0.707106781186547*γ0)</text><circle cx=\"5836.786953124997\" cy=\"295.0\" r=\"10.0\" /><rect x=\"5791.393124999997\" y=\"375.0\" width=\"90.78765625000001\" height=\"40\" stroke=\"black\" fill=\"white\" stroke-width=\"1\" /><text x=\"5836.786953124997\" y=\"395.0\" dominant-baseline=\"middle\" text-anchor=\"middle\" font-size=\"18px\" font-family=\"sans\\-serif:style=normal:variant=normal:weight=normal:stretch=normal:size=10.0\">X</text><rect x=\"5791.393124999997\" y=\"225.0\" width=\"90.78765625000001\" height=\"40\" stroke=\"black\" fill=\"white\" stroke-width=\"1\" /><text x=\"5836.786953124997\" y=\"245.0\" dominant-baseline=\"middle\" text-anchor=\"middle\" font-size=\"14px\" font-family=\"sans\\-serif:style=normal:variant=normal:weight=normal:stretch=normal:size=10.0\">Rz(10.0*γ0)</text><rect x=\"5902.1807812499965\" y=\"375.0\" width=\"81.88042968750001\" height=\"40\" stroke=\"black\" fill=\"white\" stroke-width=\"1\" /><text x=\"5943.120996093747\" y=\"395.0\" dominant-baseline=\"middle\" text-anchor=\"middle\" font-size=\"14px\" font-family=\"sans\\-serif:style=normal:variant=normal:weight=normal:stretch=normal:size=10.0\">Rz(0.5*γ0)</text><rect x=\"5902.1807812499965\" y=\"225.0\" width=\"81.88042968750001\" height=\"40\" stroke=\"black\" fill=\"white\" stroke-width=\"1\" /><text x=\"5943.120996093747\" y=\"245.0\" dominant-baseline=\"middle\" text-anchor=\"middle\" font-size=\"14px\" font-family=\"sans\\-serif:style=normal:variant=normal:weight=normal:stretch=normal:size=10.0\">Rx(2*β0)</text><circle cx=\"6024.061210937496\" cy=\"295.0\" r=\"10.0\" /><rect x=\"6004.061210937496\" y=\"375.0\" width=\"40\" height=\"40\" stroke=\"black\" fill=\"white\" stroke-width=\"1\" /><text x=\"6024.061210937496\" y=\"395.0\" dominant-baseline=\"middle\" text-anchor=\"middle\" font-size=\"18px\" font-family=\"sans\\-serif:style=normal:variant=normal:weight=normal:stretch=normal:size=10.0\">X</text><rect x=\"6004.061210937496\" y=\"225.0\" width=\"40\" height=\"40\" stroke=\"black\" fill=\"white\" stroke-width=\"1\" /><text x=\"6024.061210937496\" y=\"245.0\" dominant-baseline=\"middle\" text-anchor=\"middle\" font-size=\"18px\" font-family=\"sans\\-serif:style=normal:variant=normal:weight=normal:stretch=normal:size=10.0\">M</text><rect x=\"6064.061210937496\" y=\"275.0\" width=\"81.88042968750001\" height=\"40\" stroke=\"black\" fill=\"white\" stroke-width=\"1\" /><text x=\"6105.001425781246\" y=\"295.0\" dominant-baseline=\"middle\" text-anchor=\"middle\" font-size=\"14px\" font-family=\"sans\\-serif:style=normal:variant=normal:weight=normal:stretch=normal:size=10.0\">Rz(1.0*γ0)</text><rect x=\"6064.061210937496\" y=\"375.0\" width=\"81.88042968750001\" height=\"40\" stroke=\"black\" fill=\"white\" stroke-width=\"1\" /><text x=\"6105.001425781246\" y=\"395.0\" dominant-baseline=\"middle\" text-anchor=\"middle\" font-size=\"14px\" font-family=\"sans\\-serif:style=normal:variant=normal:weight=normal:stretch=normal:size=10.0\">Rz(1.0*γ0)</text><circle cx=\"6211.335468749996\" cy=\"345.0\" r=\"10.0\" /><rect x=\"6165.941640624996\" y=\"375.0\" width=\"90.78765625000001\" height=\"40\" stroke=\"black\" fill=\"white\" stroke-width=\"1\" /><text x=\"6211.335468749996\" y=\"395.0\" dominant-baseline=\"middle\" text-anchor=\"middle\" font-size=\"18px\" font-family=\"sans\\-serif:style=normal:variant=normal:weight=normal:stretch=normal:size=10.0\">X</text><rect x=\"6165.941640624996\" y=\"275.0\" width=\"90.78765625000001\" height=\"40\" stroke=\"black\" fill=\"white\" stroke-width=\"1\" /><text x=\"6211.335468749996\" y=\"295.0\" dominant-baseline=\"middle\" text-anchor=\"middle\" font-size=\"14px\" font-family=\"sans\\-serif:style=normal:variant=normal:weight=normal:stretch=normal:size=10.0\">Rz(10.0*γ0)</text><rect x=\"6276.729296874995\" y=\"375.0\" width=\"81.88042968750001\" height=\"40\" stroke=\"black\" fill=\"white\" stroke-width=\"1\" /><text x=\"6317.6695117187455\" y=\"395.0\" dominant-baseline=\"middle\" text-anchor=\"middle\" font-size=\"14px\" font-family=\"sans\\-serif:style=normal:variant=normal:weight=normal:stretch=normal:size=10.0\">Rz(0.5*γ0)</text><rect x=\"6276.729296874995\" y=\"275.0\" width=\"81.88042968750001\" height=\"40\" stroke=\"black\" fill=\"white\" stroke-width=\"1\" /><text x=\"6317.6695117187455\" y=\"295.0\" dominant-baseline=\"middle\" text-anchor=\"middle\" font-size=\"14px\" font-family=\"sans\\-serif:style=normal:variant=normal:weight=normal:stretch=normal:size=10.0\">Rx(2*β0)</text><circle cx=\"6398.609726562495\" cy=\"345.0\" r=\"10.0\" /><rect x=\"6378.609726562495\" y=\"375.0\" width=\"40\" height=\"40\" stroke=\"black\" fill=\"white\" stroke-width=\"1\" /><text x=\"6398.609726562495\" y=\"395.0\" dominant-baseline=\"middle\" text-anchor=\"middle\" font-size=\"18px\" font-family=\"sans\\-serif:style=normal:variant=normal:weight=normal:stretch=normal:size=10.0\">X</text><rect x=\"6378.609726562495\" y=\"275.0\" width=\"40\" height=\"40\" stroke=\"black\" fill=\"white\" stroke-width=\"1\" /><text x=\"6398.609726562495\" y=\"295.0\" dominant-baseline=\"middle\" text-anchor=\"middle\" font-size=\"18px\" font-family=\"sans\\-serif:style=normal:variant=normal:weight=normal:stretch=normal:size=10.0\">M</text><rect x=\"6438.609726562495\" y=\"325.0\" width=\"81.88042968750001\" height=\"40\" stroke=\"black\" fill=\"white\" stroke-width=\"1\" /><text x=\"6479.549941406245\" y=\"345.0\" dominant-baseline=\"middle\" text-anchor=\"middle\" font-size=\"14px\" font-family=\"sans\\-serif:style=normal:variant=normal:weight=normal:stretch=normal:size=10.0\">Rz(1.0*γ0)</text><rect x=\"6438.609726562495\" y=\"375.0\" width=\"81.88042968750001\" height=\"40\" stroke=\"black\" fill=\"white\" stroke-width=\"1\" /><text x=\"6479.549941406245\" y=\"395.0\" dominant-baseline=\"middle\" text-anchor=\"middle\" font-size=\"14px\" font-family=\"sans\\-serif:style=normal:variant=normal:weight=normal:stretch=normal:size=10.0\">Rz(1.0*γ0)</text><rect x=\"6540.4901562499945\" y=\"325.0\" width=\"70.1089453125\" height=\"40\" stroke=\"black\" fill=\"white\" stroke-width=\"1\" /><text x=\"6575.544628906245\" y=\"345.0\" dominant-baseline=\"middle\" text-anchor=\"middle\" font-size=\"14px\" font-family=\"sans\\-serif:style=normal:variant=normal:weight=normal:stretch=normal:size=10.0\">Rx(2*β0)</text><rect x=\"6540.4901562499945\" y=\"375.0\" width=\"70.1089453125\" height=\"40\" stroke=\"black\" fill=\"white\" stroke-width=\"1\" /><text x=\"6575.544628906245\" y=\"395.0\" dominant-baseline=\"middle\" text-anchor=\"middle\" font-size=\"14px\" font-family=\"sans\\-serif:style=normal:variant=normal:weight=normal:stretch=normal:size=10.0\">Rx(2*β0)</text><rect x=\"6630.599101562494\" y=\"325.0\" width=\"40\" height=\"40\" stroke=\"black\" fill=\"white\" stroke-width=\"1\" /><text x=\"6650.599101562494\" y=\"345.0\" dominant-baseline=\"middle\" text-anchor=\"middle\" font-size=\"18px\" font-family=\"sans\\-serif:style=normal:variant=normal:weight=normal:stretch=normal:size=10.0\">M</text><rect x=\"6630.599101562494\" y=\"375.0\" width=\"40\" height=\"40\" stroke=\"black\" fill=\"white\" stroke-width=\"1\" /><text x=\"6650.599101562494\" y=\"395.0\" dominant-baseline=\"middle\" text-anchor=\"middle\" font-size=\"18px\" font-family=\"sans\\-serif:style=normal:variant=normal:weight=normal:stretch=normal:size=10.0\">M</text></svg>"
      ],
      "text/plain": [
       "<cirq.contrib.svg.svg.SVGCircuit at 0x206e2eaaee0>"
      ]
     },
     "execution_count": 441,
     "metadata": {},
     "output_type": "execute_result"
    }
   ],
   "source": [
    "qaoa_depth(weight, p, node)\n",
    "SVGCircuit(qaoa_circuit)"
   ]
  },
  {
   "cell_type": "markdown",
   "id": "edd3dbf4-f696-4132-bf29-d94bc5fb3cd5",
   "metadata": {},
   "source": [
    "## 2. Cost Function Calculation and Simulation over beta and gamma"
   ]
  },
  {
   "cell_type": "code",
   "execution_count": 442,
   "id": "cbdee271-6701-43fb-8f36-b81b96ea239e",
   "metadata": {},
   "outputs": [],
   "source": [
    "def estimate_cost(weight, samples):\n",
    "    cost_value = 0.0\n",
    "    node = weight.shape[0]\n",
    "\n",
    "    # Loop over upper triangle of adjacency matrix\n",
    "    for i in range(node):\n",
    "        for j in range(i+1, node):\n",
    "            if weight[i, j] != 0:\n",
    "                i_samples = samples[\"q(\" + str(i) + \")\"]\n",
    "                j_samples = samples[\"q(\" + str(j) + \")\"]\n",
    "\n",
    "                # Convert {0,1} to {-1, +1}\n",
    "                i_signs = (-1) ** (i_samples + 1) \n",
    "                j_signs = (-1) ** (j_samples + 1)\n",
    "                term_signs = i_signs * j_signs\n",
    "\n",
    "                # Expectation value for edge (i,j)\n",
    "                term_val = np.mean(term_signs) * weight[i, j]/4\n",
    "                i_value = np.mean(i_signs) * weight[i, j]/2\n",
    "                j_value = np.mean(j_signs) * weight[i, j]/2\n",
    "                cost_value += term_val + i_value + j_value\n",
    "\n",
    "    # loop over diagonal element of weight matrix\n",
    "    for i in range(node):\n",
    "        if weight[i, i] != 0:\n",
    "            i_samples = samples[\"q(\" + str(i) + \")\"]\n",
    "\n",
    "            # Convert {0,1} to {-1, +1}\n",
    "            i_signs = (-1) ** (i_samples+1)\n",
    "            term_val = np.mean(i_signs) * weight[i, i]/2\n",
    "            cost_value += term_val\n",
    "\n",
    "    return cost_value"
   ]
  },
  {
   "cell_type": "code",
   "execution_count": 443,
   "id": "0abde252-ee83-42cf-a6c6-5e0a4c8bbef6",
   "metadata": {},
   "outputs": [],
   "source": [
    "import time\n",
    "from scipy.optimize import minimize\n",
    "\n",
    "start = time.time()\n",
    "\n",
    "def qaoa_cost(params, weight, p, node, repetitions=5000):\n",
    "    param_dict = {}\n",
    "    for i in range(p):\n",
    "        param_dict[f\"γ{i}\"] = params[2 * i]\n",
    "        param_dict[f\"β{i}\"] = params[2 * i + 1]\n",
    "\n",
    "    qubits = cirq.LineQubit.range(node)\n",
    "    circuit = cirq.Circuit()\n",
    "    global qaoa_circuit\n",
    "    qaoa_circuit = cirq.Circuit()  # reset before building\n",
    "    qaoa_depth(weight, p, node)\n",
    "    circuit += qaoa_circuit\n",
    "\n",
    "    sim = cirq.Simulator()\n",
    "    results = sim.sample(circuit, params=param_dict, repetitions=repetitions)\n",
    "    results = dict(results)\n",
    "    return estimate_cost(weight, results)\n",
    "\n",
    "# MAX Value Finder\n",
    "def neg_qaoa_cost(params, weight, p, node):\n",
    "    return -qaoa_cost(params, weight, p, node)\n",
    "\n",
    "def p1_case(grid_size, gamma_sweep, beta_sweep):\n",
    "    \n",
    "    grid = np.zeros((grid_size, grid_size))\n",
    "    sim = cirq.Simulator()\n",
    "    \n",
    "    for i in range(grid_size):\n",
    "        for j in range(grid_size):\n",
    "            results = sim.sample(qaoa_circuit, params = {\"γ0\" : gamma_sweep[i], \"β0\" : beta_sweep[j]}, repetitions = 20000)\n",
    "            results = dict(results)\n",
    "            cost = estimate_cost(weight, results)\n",
    "            grid[i, j] = cost\n",
    "    \n",
    "    mini, maxi = np.min(grid), np.max(grid)\n",
    "    min_g, min_b = np.unravel_index(np.argmin(grid), grid.shape)\n",
    "    min_gam = gamma_sweep[min_g] \n",
    "    min_bet = beta_sweep[min_b]\n",
    "    return mini, maxi, min_gam, min_bet, grid"
   ]
  },
  {
   "cell_type": "code",
   "execution_count": null,
   "id": "92f6c7bc-27dc-4367-b2cd-24e62861f1fd",
   "metadata": {},
   "outputs": [
    {
     "name": "stdout",
     "output_type": "stream",
     "text": [
      "(3_w,6)-aCMA-ES (mu_w=2.0,w_1=63%) in dimension 2 (seed=488737, Wed May 28 23:52:02 2025)\n",
      "Iterat #Fevals   function value  axis ratio  sigma  min&max std  t[m:s]\n",
      "    1      6 -4.339102352006586e+00 1.0e+00 4.64e-01  4e-01  5e-01 0:00.5\n",
      "    2     12 -9.646335952314143e+00 1.3e+00 5.20e-01  4e-01  6e-01 0:01.1\n",
      "    3     18 -9.300955880016465e+00 1.6e+00 4.50e-01  3e-01  5e-01 0:01.6\n",
      "    4     24 -1.960042403999693e+01 1.7e+00 4.76e-01  3e-01  6e-01 0:02.1\n",
      "    5     30 -3.478527207793864e+00 2.0e+00 5.08e-01  3e-01  6e-01 0:02.6\n",
      "    6     36 -8.470067027304760e+00 1.7e+00 4.40e-01  2e-01  5e-01 0:03.1\n",
      "    7     42 -1.110851067811866e+01 2.1e+00 3.33e-01  2e-01  3e-01 0:03.6\n",
      "    8     48 -8.901533513652378e+00 2.0e+00 2.91e-01  1e-01  3e-01 0:04.1\n",
      "    9     54 -7.664720310216783e+00 2.0e+00 2.32e-01  9e-02  2e-01 0:04.6\n"
     ]
    }
   ],
   "source": [
    "if mode == 1:\n",
    "    initial_params = np.random.uniform(0, np.pi, size=2 * p)\n",
    "    res = minimize(\n",
    "        qaoa_cost,\n",
    "        x0=initial_params,\n",
    "        args=(weight, p, node),\n",
    "        method='COBYLA',\n",
    "        options={'maxiter': 1000, 'disp': True}\n",
    "    )\n",
    "\n",
    "    optimal_params = res.x\n",
    "    min_gam = [optimal_params[2 * i] for i in range(p)]\n",
    "    min_bet = [optimal_params[2 * i + 1] for i in range(p)]\n",
    "\n",
    "    print(\"Optimal gamma:\", np.round(min_gam, 3))\n",
    "    print(\"Optimal beta:\", np.round(min_bet, 3))\n",
    "\n",
    "    end = time.time()\n",
    "    period = end - start\n",
    "    print(f\"The elapsed time is {period}\")\n",
    "\n",
    "elif mode == 2:\n",
    "    x0 = np.random.uniform(0, np.pi, size=2 * p)\n",
    "    sigma0 = 0.5  # Step size\n",
    "\n",
    "    # Call CMA-ES optimizer\n",
    "    res = cma.fmin(\n",
    "        qaoa_cost,\n",
    "        x0,\n",
    "        sigma0,\n",
    "        args=(weight, p, node),\n",
    "        options={\n",
    "            \"maxfevals\": 10000,     # Max number of cost evaluations\n",
    "            \"verb_disp\": 1         # Show progress\n",
    "        }\n",
    "    )\n",
    "\n",
    "    best_params = res[5]  # Optimal gamma and beta values\n",
    "    min_gam = best_params[:p]\n",
    "    min_bet = best_params[p:]\n",
    "\n",
    "    print(\"Optimal gamma:\", np.round(min_gam, 3))\n",
    "    print(\"Optimal beta:\", np.round(min_bet, 3))\n",
    "\n",
    "    end = time.time()\n",
    "    period = end - start\n",
    "    print(f\"The elapsed time is {period}\")\n",
    "\n",
    "elif mode == 3:\n",
    "    def gam_beta_grid(weight, grid_size, p):\n",
    "        grid = np.zeros((grid_size, grid_size))\n",
    "        gamma_sweep = np.linspace(0, np.pi, grid_size)\n",
    "        print(gamma_sweep)\n",
    "        beta_sweep = np.linspace(0, np.pi, grid_size)\n",
    "        print(beta_sweep)\n",
    "\n",
    "        if p == 1:\n",
    "            mini, maxi, min_gam, min_bet, grid = p1_case(grid_size, gamma_sweep, beta_sweep)\n",
    "            return mini, maxi, min_gam, min_bet, grid\n",
    "\n",
    "        if p == 2:\n",
    "            mini, maxi, min_gam, min_bet, grid = p2_case(grid_size, gamma_sweep, beta_sweep)\n",
    "            return mini, maxi, min_gam, min_bet, grid\n",
    "\n",
    "        if p == 3:\n",
    "            mini, maxi, min_gam, min_bet, grid = p3_case(grid_size, gamma_sweep, beta_sweep)\n",
    "            return mini, maxi, min_gam, min_bet, grid\n",
    "    \n",
    "        \n",
    "    mini, maxi, min_gam, min_bet, grid = gam_beta_grid(weight, grid_size, p)\n",
    "    min_gam = [min_gam]\n",
    "    min_bet = [min_bet]\n",
    "    print(mini, maxi, min_gam, min_bet)"
   ]
  },
  {
   "cell_type": "code",
   "execution_count": null,
   "id": "ce2f2d22-a6cc-46c3-889e-9f737f10386c",
   "metadata": {},
   "outputs": [],
   "source": [
    "if mode == 1:\n",
    "    pass\n",
    "if mode == 2:\n",
    "    \n",
    "    print(res)\n",
    "    best_params = res[5]  # Optimal gamma and beta values\n",
    "    min_gam = best_params[:p]\n",
    "    min_bet = best_params[p:]\n",
    "\n",
    "    print(\"Optimal gamma:\", np.round(min_gam, 3))\n",
    "    print(\"Optimal beta:\", np.round(min_bet, 3))\n",
    "\n",
    "    end = time.time()\n",
    "    period = end - start\n",
    "    print(f\"The elapsed time is {period}\")"
   ]
  },
  {
   "cell_type": "markdown",
   "id": "1c354102-4203-4665-bfc1-95252242e024",
   "metadata": {},
   "source": [
    "## 3. Simulation over optimized gamma and beta"
   ]
  },
  {
   "cell_type": "code",
   "execution_count": null,
   "id": "4525677d-aa1e-4ad8-8791-ee8ec7045c50",
   "metadata": {},
   "outputs": [],
   "source": [
    "def simulate_opti(qaoa_circuit, min_gam, min_bet, weight, p):\n",
    "    \n",
    "    params = {}\n",
    "    for i in range(p):\n",
    "        params[f\"γ{i}\"] = min_gam[i]\n",
    "        params[f\"β{i}\"] = min_bet[i]\n",
    "\n",
    "    sim = cirq.Simulator()\n",
    "    sample_results = sim.sample(qaoa_circuit, params=params, repetitions=200000)\n",
    "    sample_results = dict(sample_results)\n",
    "\n",
    "    print(f\"Gamma = {np.round(min_gam, 3)}\")\n",
    "    print(f\"Beta  = {np.round(min_bet, 3)}\")\n",
    "    print(f\"Estimated cost: {estimate_cost(weight, sample_results)}\")\n",
    "    \n",
    "    return sample_results\n"
   ]
  },
  {
   "cell_type": "code",
   "execution_count": null,
   "id": "28d8706a-cd93-4f1d-9862-4d29612ef76c",
   "metadata": {},
   "outputs": [],
   "source": [
    "sample_results = simulate_opti(qaoa_circuit, min_gam, min_bet, weight, p)"
   ]
  },
  {
   "cell_type": "code",
   "execution_count": null,
   "id": "7c205d72-dbb1-4481-b011-dcdc32725a0e",
   "metadata": {},
   "outputs": [],
   "source": [
    "def histogram_qubits(result, node, repetition):\n",
    "    qubit_list = {}\n",
    "    str_qubit = [\"q(\" + str(i) + \")\" for i in range(node)]\n",
    "    for idx in range(repetition):\n",
    "        res_qubit = \"\"\n",
    "        for jdx in str_qubit:\n",
    "            res_qubit += str(result[jdx][idx])\n",
    "\n",
    "        try:\n",
    "            qubit_list[res_qubit] += 1\n",
    "        except:\n",
    "            qubit_list[res_qubit] = 1\n",
    "\n",
    "    return qubit_list"
   ]
  },
  {
   "cell_type": "code",
   "execution_count": null,
   "id": "f7699475-bed7-43ed-b5a7-967062d1a697",
   "metadata": {},
   "outputs": [],
   "source": [
    "qubit_list = histogram_qubits(sample_results, node, 200000)\n",
    "sorted_qubit_list = dict(sorted(qubit_list.items(), key=lambda x: x[0]))\n",
    "sorted_qubit_list = {int(k, 2): v for k, v in sorted_qubit_list.items()}\n",
    "ranking_qubit_list = dict(sorted(qubit_list.items(), key=lambda x: x[1], reverse=True))\n",
    "# print(ranking_qubit_list)\n",
    "compo = list(ranking_qubit_list.keys())\n",
    "count = list(ranking_qubit_list.values())\n"
   ]
  },
  {
   "cell_type": "code",
   "execution_count": null,
   "id": "5a1a5a43-baae-4c58-b9a4-9ed03efb3466",
   "metadata": {},
   "outputs": [],
   "source": [
    "print(\"All List\")\n",
    "    \n",
    "for i in range(int (len(compo) / node)):\n",
    "    print(compo[i], \" : \", count[i]) \n",
    "# print(compo[0:100], count[0:100])\n",
    "\n",
    "sym = sorted_qubit_list.keys()\n",
    "val = sorted_qubit_list.values()\n",
    "top_N = 100\n",
    "top_keys = list(ranking_qubit_list.keys())[:top_N]\n",
    "top_vals = list(ranking_qubit_list.values())[:top_N]\n",
    "top_keys_int = [int(k, 2) for k in top_keys]\n",
    "\n",
    "plt.bar(top_keys_int, top_vals, color=\"pink\")\n",
    "plt.title(\"Top QAOA States\")\n",
    "plt.xlabel(\"Bitstring (int)\")\n",
    "plt.ylabel(\"Counts\")\n",
    "plt.tight_layout()\n",
    "plt.savefig(\"Nyx.png\")\n",
    "plt.show()"
   ]
  },
  {
   "cell_type": "code",
   "execution_count": null,
   "id": "3ca365d2-06b2-4896-874a-30bf8083ad87",
   "metadata": {},
   "outputs": [],
   "source": []
  }
 ],
 "metadata": {
  "kernelspec": {
   "display_name": "Python 3 (ipykernel)",
   "language": "python",
   "name": "python3"
  },
  "language_info": {
   "codemirror_mode": {
    "name": "ipython",
    "version": 3
   },
   "file_extension": ".py",
   "mimetype": "text/x-python",
   "name": "python",
   "nbconvert_exporter": "python",
   "pygments_lexer": "ipython3",
   "version": "3.13.3"
  }
 },
 "nbformat": 4,
 "nbformat_minor": 5
}
