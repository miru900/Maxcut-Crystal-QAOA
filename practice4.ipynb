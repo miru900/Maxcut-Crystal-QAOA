{
 "cells": [
  {
   "cell_type": "code",
   "execution_count": 5,
   "id": "b34a12b2-f15e-430c-aa00-2145c5c847e1",
   "metadata": {},
   "outputs": [],
   "source": [
    "import matplotlib.pyplot as plt\n",
    "import cirq\n",
    "import numpy as np\n",
    "from cirq.contrib.svg import SVGCircuit\n",
    "import networkx as nx\n",
    "import sympy as sp\n",
    "import pandas as pd\n",
    "import math"
   ]
  },
  {
   "cell_type": "code",
   "execution_count": 29,
   "id": "2631d522-0b91-48a8-8c22-c6c1aa3dd68c",
   "metadata": {},
   "outputs": [
    {
     "name": "stdout",
     "output_type": "stream",
     "text": [
      "[[0 1]\n",
      " [0 0]]\n"
     ]
    }
   ],
   "source": [
    "# Weight Block\n",
    "# Crystal Problem\n",
    "\n",
    "weight = np.array([\n",
    "    [0, 1], \n",
    "    [0, 0] \n",
    "])\n",
    "\n",
    "chem = [\"Na\", \"Cl\"]; T = len(typ) \n",
    "pos = [\"0\", \"1\"]; N = len(pos)\n",
    "\n",
    "print(weight)"
   ]
  },
  {
   "cell_type": "code",
   "execution_count": 30,
   "id": "bc67558f-8a9e-42cf-8588-8620e19c1068",
   "metadata": {},
   "outputs": [
    {
     "name": "stdout",
     "output_type": "stream",
     "text": [
      "{'Na0': cirq.NamedQubit('Na0'), 'Na1': cirq.NamedQubit('Na1'), 'Cl0': cirq.NamedQubit('Cl0'), 'Cl1': cirq.NamedQubit('Cl1')}\n"
     ]
    }
   ],
   "source": [
    "# Define symbolic parameters\n",
    "gamma = sp.Symbol(\"γ\")\n",
    "beta = sp.Symbol(\"β\")\n",
    "\n",
    "# Create qubits and initialize circuit\n",
    "qubits = {}\n",
    "for i in chem:\n",
    "    for j in pos:\n",
    "        name = i + j\n",
    "        qubits[name] = cirq.NamedQubit(name)\n",
    "\n",
    "print(qubits)"
   ]
  },
  {
   "cell_type": "code",
   "execution_count": null,
   "id": "0959bb4e-f560-4d38-a4af-f7d9324096de",
   "metadata": {},
   "outputs": [],
   "source": [
    "qaoa_circuit = cirq.Circuit()\n",
    "\n",
    "# Initial Hadamard layer\n",
    "qaoa_circuit.append([cirq.H(q) for q in qubits])\n",
    "\n",
    "# ZZ gate definition\n",
    "def cirqzz(qubits, weight, k, l, k_qu, l_qu):\n",
    "    return [cirq.CNOT(qubits[k_qu], qubits[l_qu]), cirq.rz(2 * gamma * weight[k, l])(qubits[l_qu]), cirq.CNOT(qubits[k_qu], qubits[l_qu])]\n",
    "            \n",
    "# Cost Hamiltonian layer (ZZ interactions)\n",
    "for i in range(typ_n):\n",
    "    for j in range(i, typ_n):\n",
    "        first_rank = i + j\n",
    "        selected_weight = weight[first_rank]\n",
    "        \n",
    "        for k in range(pos_n):\n",
    "            if selected_weight[k, k] != 0:\n",
    "                qaoa_circuit.append(cirq.rz(2 * gamma * selected_weight[k, k])(qubits[k + sup_posn * first_rank]))\n",
    "                \n",
    "            for l in range(k+1, pos_n):\n",
    "                if selected_weight[k, l] != 0:\n",
    "                    qaoa_circuit.append(cirqzz(qubits, selected_weight, k, l, k + sup_posn * first_rank, l + sup_posn * first_rank))\n",
    "                    \n",
    "\n",
    "# Mixer layer (Rx rotations applied in parallel)\n",
    "qaoa_circuit.append([cirq.rx(2 * beta)(q) for q in qubits])\n",
    "\n",
    "# Measurement layer\n",
    "qaoa_circuit.append([\n",
    "    cirq.measure(q) for q in qubits\n",
    "])\n",
    "\n",
    "# Visualize the circuit"
   ]
  },
  {
   "cell_type": "code",
   "execution_count": 12,
   "id": "362d08d3-0e96-40f5-8b40-cdb7f4e3e2f6",
   "metadata": {},
   "outputs": [],
   "source": [
    "def estimate_cost(weight, samples):\n",
    "    cost_value = 0.0\n",
    "    node = weight.shape[0]\n",
    "\n",
    "    # Loop over upper triangle of adjacency matrix\n",
    "    for i in range(node):\n",
    "        for j in range(i, node):\n",
    "            if weight[i, j] != 0:\n",
    "                i_samples = samples[\"q(\" + str(i) + \")\"]\n",
    "                j_samples = samples[\"q(\" + str(j) + \")\"]\n",
    "\n",
    "                # Convert {0,1} to {+1, -1}\n",
    "                i_signs = (-1) ** i_samples\n",
    "                j_signs = (-1) ** j_samples\n",
    "                term_signs = i_signs * j_signs\n",
    "\n",
    "                # Expectation value for edge (i,j)\n",
    "                term_val = np.mean(term_signs) * weight[i, j]\n",
    "                cost_value += term_val\n",
    "\n",
    "    return cost_value"
   ]
  },
  {
   "cell_type": "code",
   "execution_count": null,
   "id": "64fc19c2-6d9d-4df9-8943-dbdd80b348dc",
   "metadata": {},
   "outputs": [],
   "source": [
    "import time\n",
    "\n",
    "start = time.time()\n",
    "grid_size = 11\n",
    "\n",
    "def gam_beta_grid(weight, grid_size):\n",
    "    grid = np.zeros((grid_size, grid_size))\n",
    "    gamma_sweep = np.linspace(0, np.pi, grid_size)\n",
    "    print(gamma_sweep)\n",
    "    beta_sweep = np.linspace(0, np.pi, grid_size)\n",
    "    print(beta_sweep)\n",
    "    \n",
    "    for i in range(grid_size):\n",
    "        for j in range(grid_size):\n",
    "            results = sim.sample(qaoa_circuit, params = {gamma : gamma_sweep[i], beta : beta_sweep[j]}, repetitions = 20000)\n",
    "            results = dict(results)\n",
    "            cost = estimate_cost(weight, results)\n",
    "            grid[i, j] = cost\n",
    "            \n",
    "    mini, maxi = np.min(grid), np.max(grid)\n",
    "    min_g, min_b = np.unravel_index(np.argmin(grid), grid.shape)\n",
    "    min_gam = gamma_sweep[min_g] \n",
    "    # https://i.namu.wiki/i/f_q_IqI70RTqi_uiV4x62Y-pB--aJj6WUpDc-JMMTPL8x98fa_RVinXWilRrq6VabEc5WHLo3z3ME6APjRZDgOgHUhwPULFa3XT5P29OSMtr3saevTIeqrjORaZRqBIR1Teb9sSmhi7vB4u4ITUxGw.webp\n",
    "    min_bet = beta_sweep[min_b]\n",
    "    return mini, maxi, min_gam, min_bet, grid\n",
    "        \n",
    "mini, maxi, min_gam, min_bet, grid = gam_beta_grid(weight, grid_size)\n",
    "print(mini, maxi, min_gam, min_bet)\n",
    "\n",
    "\n",
    "end = time.time()\n",
    "\n",
    "print(end - start)"
   ]
  }
 ],
 "metadata": {
  "kernelspec": {
   "display_name": "Python 3 (ipykernel)",
   "language": "python",
   "name": "python3"
  },
  "language_info": {
   "codemirror_mode": {
    "name": "ipython",
    "version": 3
   },
   "file_extension": ".py",
   "mimetype": "text/x-python",
   "name": "python",
   "nbconvert_exporter": "python",
   "pygments_lexer": "ipython3",
   "version": "3.13.3"
  }
 },
 "nbformat": 4,
 "nbformat_minor": 5
}
