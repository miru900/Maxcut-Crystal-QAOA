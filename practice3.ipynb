{
 "cells": [
  {
   "cell_type": "code",
   "execution_count": 2,
   "id": "78ce5bf7-cb97-485f-bfcb-daee85912dac",
   "metadata": {},
   "outputs": [],
   "source": [
    "import matplotlib.pyplot as plt\n",
    "import cirq\n",
    "import numpy as np\n",
    "from cirq.contrib.svg import SVGCircuit\n",
    "import networkx as nx\n",
    "import sympy as sp\n",
    "import pandas as pd"
   ]
  },
  {
   "cell_type": "code",
   "execution_count": 3,
   "id": "bffda31b-b5d8-4bee-8a18-e4ad103f9824",
   "metadata": {},
   "outputs": [
    {
     "data": {
      "image/svg+xml": [
       "<svg xmlns=\"http://www.w3.org/2000/svg\" width=\"220.0\" height=\"100.0\"><line x1=\"30.0\" x2=\"190.0\" y1=\"25.0\" y2=\"25.0\" stroke=\"#1967d2\" stroke-width=\"1\" /><line x1=\"30.0\" x2=\"190.0\" y1=\"75.0\" y2=\"75.0\" stroke=\"#1967d2\" stroke-width=\"1\" /><rect x=\"10.0\" y=\"5.0\" width=\"40\" height=\"40\" stroke=\"black\" fill=\"white\" stroke-width=\"0\" /><text x=\"30.0\" y=\"25.0\" dominant-baseline=\"middle\" text-anchor=\"middle\" font-size=\"14px\" font-family=\"sans\\-serif:style=normal:variant=normal:weight=normal:stretch=normal:size=10.0\">0: </text><rect x=\"10.0\" y=\"55.0\" width=\"40\" height=\"40\" stroke=\"black\" fill=\"white\" stroke-width=\"0\" /><text x=\"30.0\" y=\"75.0\" dominant-baseline=\"middle\" text-anchor=\"middle\" font-size=\"14px\" font-family=\"sans\\-serif:style=normal:variant=normal:weight=normal:stretch=normal:size=10.0\">1: </text><rect x=\"70.0\" y=\"5.0\" width=\"40\" height=\"40\" stroke=\"black\" fill=\"white\" stroke-width=\"1\" /><text x=\"90.0\" y=\"25.0\" dominant-baseline=\"middle\" text-anchor=\"middle\" font-size=\"18px\" font-family=\"sans\\-serif:style=normal:variant=normal:weight=normal:stretch=normal:size=10.0\">H</text><rect x=\"70.0\" y=\"55.0\" width=\"40\" height=\"40\" stroke=\"black\" fill=\"white\" stroke-width=\"1\" /><text x=\"90.0\" y=\"75.0\" dominant-baseline=\"middle\" text-anchor=\"middle\" font-size=\"18px\" font-family=\"sans\\-serif:style=normal:variant=normal:weight=normal:stretch=normal:size=10.0\">H</text><rect x=\"130.0\" y=\"5.0\" width=\"40\" height=\"40\" stroke=\"black\" fill=\"white\" stroke-width=\"1\" /><text x=\"150.0\" y=\"25.0\" dominant-baseline=\"middle\" text-anchor=\"middle\" font-size=\"18px\" font-family=\"sans\\-serif:style=normal:variant=normal:weight=normal:stretch=normal:size=10.0\">M</text><rect x=\"130.0\" y=\"55.0\" width=\"40\" height=\"40\" stroke=\"black\" fill=\"white\" stroke-width=\"1\" /><text x=\"150.0\" y=\"75.0\" dominant-baseline=\"middle\" text-anchor=\"middle\" font-size=\"18px\" font-family=\"sans\\-serif:style=normal:variant=normal:weight=normal:stretch=normal:size=10.0\">M</text></svg>"
      ],
      "text/plain": [
       "<cirq.contrib.svg.svg.SVGCircuit at 0x1776c3a0590>"
      ]
     },
     "execution_count": 3,
     "metadata": {},
     "output_type": "execute_result"
    }
   ],
   "source": [
    "circuit = cirq.Circuit()\n",
    "\n",
    "qubits = cirq.LineQubit.range(2)\n",
    "circuit.append(cirq.H(qubits[0]))\n",
    "circuit.append(cirq.H(qubits[1]))\n",
    "circuit.append(cirq.measure(qubits[0]))\n",
    "circuit.append(cirq.measure(qubits[1]))\n",
    "\n",
    "SVGCircuit(circuit)"
   ]
  },
  {
   "cell_type": "code",
   "execution_count": 4,
   "id": "b916b53a-70ab-4ad1-a721-73aa2f1031f6",
   "metadata": {},
   "outputs": [
    {
     "name": "stdout",
     "output_type": "stream",
     "text": [
      "q(0)=0100000100\n",
      "q(1)=0110010011\n"
     ]
    },
    {
     "data": {
      "image/png": "[encoded data removed]",
      "text/plain": [
       "<Figure size 640x480 with 1 Axes>"
      ]
     },
     "metadata": {},
     "output_type": "display_data"
    }
   ],
   "source": [
    "sim = cirq.Simulator()\n",
    "samples = sim.run(circuit, repetitions = 10)\n",
    "\n",
    "print(samples)\n",
    "\n",
    "cirq.plot_state_histogram(samples, plt.subplot())\n",
    "plt.show()"
   ]
  },
  {
   "cell_type": "markdown",
   "id": "0895dd38-8795-4305-805b-6c57a80762b8",
   "metadata": {},
   "source": [
    "## 1. Initialization Problem - Max cut\n",
    "3 nodes, 2 vertices, H2O like figure Max Cut problem and Hamiltonian"
   ]
  },
  {
   "cell_type": "code",
   "execution_count": 114,
   "id": "f451cf3b-63cc-46d8-9d59-9d5e4b336f47",
   "metadata": {},
   "outputs": [
    {
     "name": "stdout",
     "output_type": "stream",
     "text": [
      "(4, 4)\n",
      "[[ 0.   1.  -1.  -0.7]\n",
      " [ 0.   0.  -0.7 -1. ]\n",
      " [ 0.   0.   0.   1. ]\n",
      " [ 0.   0.   0.   0. ]]\n",
      "[[ 0.00e+00  1.00e+00 -1.00e+00 -7.00e-01]\n",
      " [ 0.00e+00  0.00e+00 -7.00e-01 -1.00e+00]\n",
      " [ 0.00e+00  0.00e+00  1.50e+03 -1.99e+02]\n",
      " [ 0.00e+00  0.00e+00  0.00e+00  1.50e+03]]\n"
     ]
    }
   ],
   "source": [
    "# Weight Block\n",
    "# Define adjacency matrix\n",
    "weight0 = np.array([\n",
    "    [0, 1, 0, -1],\n",
    "    [0, 0, -1, 0],\n",
    "    [0, 0, 0, 1],\n",
    "    [0, 0, 0, 0]\n",
    "])\n",
    "\n",
    "weight1 = np.array([\n",
    "    [0, 1, 1, 0.7, 0, -1, -1, -0.7],\n",
    "    [0, 0, 0.7, 1, -1, 0, -0.7, -1],\n",
    "    [0, 0, 0, 1, -1, -0.7, 0, -1],\n",
    "    [0, 0, 0, 0, -0.7, -1, -1, 0],\n",
    "    [0, 0, 0, 0, 0, 1, 1, 0.7],\n",
    "    [0, 0, 0, 0, 0, 0, 0.7, 1],\n",
    "    [0, 0, 0, 0, 0, 0, 0, 1],\n",
    "    [0, 0, 0, 0, 0, 0, 0, 0]\n",
    "])\n",
    "\n",
    "# Reducing Matrix\n",
    "weight = np.delete(weight1, (1, 3, 4, 6), axis = 0)\n",
    "weight = np.delete(weight, (1, 3, 4, 6), axis = 1)\n",
    "print(weight.shape)\n",
    "print(weight)\n",
    "\n",
    "# Constraint Matrix (Na0 + Na2 = 2, Cl0 + Cl2 = 2)\n",
    "cons = np.array([\n",
    "    [0, 0, 0, 0],\n",
    "    [0, 0, 0, 0],\n",
    "    [0, 0, 1500, -200],\n",
    "    [0, 0, 0, 1500]\n",
    "])\n",
    "\n",
    "weight += cons\n",
    "print(weight)"
   ]
  },
  {
   "cell_type": "code",
   "execution_count": 115,
   "id": "2e6f213c-a5b8-400f-b927-b640c44313e1",
   "metadata": {},
   "outputs": [
    {
     "data": {
      "image/svg+xml": [
       "<svg xmlns=\"http://www.w3.org/2000/svg\" width=\"1089.2871875000003\" height=\"240.0\"><line x1=\"30.0\" x2=\"1059.2871875000003\" y1=\"45.0\" y2=\"45.0\" stroke=\"#1967d2\" stroke-width=\"1\" /><line x1=\"30.0\" x2=\"1059.2871875000003\" y1=\"95.0\" y2=\"95.0\" stroke=\"#1967d2\" stroke-width=\"1\" /><line x1=\"30.0\" x2=\"1059.2871875000003\" y1=\"145.0\" y2=\"145.0\" stroke=\"#1967d2\" stroke-width=\"1\" /><line x1=\"30.0\" x2=\"1059.2871875000003\" y1=\"195.0\" y2=\"195.0\" stroke=\"#1967d2\" stroke-width=\"1\" /><line x1=\"340.15753906250006\" x2=\"535.3668359375001\" y1=\"5.0\" y2=\"5.0\" stroke=\"black\" stroke-width=\"1\" /><line x1=\"340.15753906250006\" x2=\"535.3668359375001\" y1=\"235.0\" y2=\"235.0\" stroke=\"black\" stroke-width=\"1\" /><line x1=\"173.77644531250002\" x2=\"173.77644531250002\" y1=\"45.0\" y2=\"95.0\" stroke=\"black\" stroke-width=\"3\" /><line x1=\"283.85521484375005\" x2=\"283.85521484375005\" y1=\"45.0\" y2=\"145.0\" stroke=\"black\" stroke-width=\"3\" /><line x1=\"386.4598632812501\" x2=\"386.4598632812501\" y1=\"45.0\" y2=\"195.0\" stroke=\"black\" stroke-width=\"3\" /><line x1=\"479.0645117187501\" x2=\"479.0645117187501\" y1=\"95.0\" y2=\"145.0\" stroke=\"black\" stroke-width=\"3\" /><line x1=\"601.6691601562501\" x2=\"601.6691601562501\" y1=\"95.0\" y2=\"195.0\" stroke=\"black\" stroke-width=\"3\" /><line x1=\"723.1810351562501\" x2=\"723.1810351562501\" y1=\"145.0\" y2=\"195.0\" stroke=\"black\" stroke-width=\"3\" /><line x1=\"340.15753906250006\" x2=\"340.15753906250006\" y1=\"5.0\" y2=\"15.0\" stroke=\"black\" stroke-width=\"3\" /><line x1=\"535.3668359375001\" x2=\"535.3668359375001\" y1=\"5.0\" y2=\"15.0\" stroke=\"black\" stroke-width=\"3\" /><line x1=\"340.15753906250006\" x2=\"340.15753906250006\" y1=\"225.0\" y2=\"235.0\" stroke=\"black\" stroke-width=\"3\" /><line x1=\"535.3668359375001\" x2=\"535.3668359375001\" y1=\"225.0\" y2=\"235.0\" stroke=\"black\" stroke-width=\"3\" /><rect x=\"10.0\" y=\"25.0\" width=\"40\" height=\"40\" stroke=\"black\" fill=\"white\" stroke-width=\"0\" /><text x=\"30.0\" y=\"45.0\" dominant-baseline=\"middle\" text-anchor=\"middle\" font-size=\"14px\" font-family=\"sans\\-serif:style=normal:variant=normal:weight=normal:stretch=normal:size=10.0\">0: </text><rect x=\"10.0\" y=\"75.0\" width=\"40\" height=\"40\" stroke=\"black\" fill=\"white\" stroke-width=\"0\" /><text x=\"30.0\" y=\"95.0\" dominant-baseline=\"middle\" text-anchor=\"middle\" font-size=\"14px\" font-family=\"sans\\-serif:style=normal:variant=normal:weight=normal:stretch=normal:size=10.0\">1: </text><rect x=\"10.0\" y=\"125.0\" width=\"40\" height=\"40\" stroke=\"black\" fill=\"white\" stroke-width=\"0\" /><text x=\"30.0\" y=\"145.0\" dominant-baseline=\"middle\" text-anchor=\"middle\" font-size=\"14px\" font-family=\"sans\\-serif:style=normal:variant=normal:weight=normal:stretch=normal:size=10.0\">2: </text><rect x=\"10.0\" y=\"175.0\" width=\"40\" height=\"40\" stroke=\"black\" fill=\"white\" stroke-width=\"0\" /><text x=\"30.0\" y=\"195.0\" dominant-baseline=\"middle\" text-anchor=\"middle\" font-size=\"14px\" font-family=\"sans\\-serif:style=normal:variant=normal:weight=normal:stretch=normal:size=10.0\">3: </text><rect x=\"70.0\" y=\"25.0\" width=\"40\" height=\"40\" stroke=\"black\" fill=\"white\" stroke-width=\"1\" /><text x=\"90.0\" y=\"45.0\" dominant-baseline=\"middle\" text-anchor=\"middle\" font-size=\"18px\" font-family=\"sans\\-serif:style=normal:variant=normal:weight=normal:stretch=normal:size=10.0\">H</text><rect x=\"70.0\" y=\"75.0\" width=\"40\" height=\"40\" stroke=\"black\" fill=\"white\" stroke-width=\"1\" /><text x=\"90.0\" y=\"95.0\" dominant-baseline=\"middle\" text-anchor=\"middle\" font-size=\"18px\" font-family=\"sans\\-serif:style=normal:variant=normal:weight=normal:stretch=normal:size=10.0\">H</text><rect x=\"70.0\" y=\"125.0\" width=\"40\" height=\"40\" stroke=\"black\" fill=\"white\" stroke-width=\"1\" /><text x=\"90.0\" y=\"145.0\" dominant-baseline=\"middle\" text-anchor=\"middle\" font-size=\"18px\" font-family=\"sans\\-serif:style=normal:variant=normal:weight=normal:stretch=normal:size=10.0\">H</text><rect x=\"70.0\" y=\"175.0\" width=\"40\" height=\"40\" stroke=\"black\" fill=\"white\" stroke-width=\"1\" /><text x=\"90.0\" y=\"195.0\" dominant-baseline=\"middle\" text-anchor=\"middle\" font-size=\"18px\" font-family=\"sans\\-serif:style=normal:variant=normal:weight=normal:stretch=normal:size=10.0\">H</text><rect x=\"130.0\" y=\"25.0\" width=\"87.55289062500002\" height=\"40\" stroke=\"black\" fill=\"white\" stroke-width=\"1\" /><text x=\"173.77644531250002\" y=\"45.0\" dominant-baseline=\"middle\" text-anchor=\"middle\" font-size=\"14px\" font-family=\"sans\\-serif:style=normal:variant=normal:weight=normal:stretch=normal:size=10.0\">ZZ</text><rect x=\"130.0\" y=\"75.0\" width=\"87.55289062500002\" height=\"40\" stroke=\"black\" fill=\"white\" stroke-width=\"1\" /><text x=\"173.77644531250002\" y=\"95.0\" dominant-baseline=\"middle\" text-anchor=\"middle\" font-size=\"14px\" font-family=\"sans\\-serif:style=normal:variant=normal:weight=normal:stretch=normal:size=10.0\">ZZ^(2.0*γ)</text><rect x=\"237.55289062500003\" y=\"25.0\" width=\"92.60464843750002\" height=\"40\" stroke=\"black\" fill=\"white\" stroke-width=\"1\" /><text x=\"283.85521484375005\" y=\"45.0\" dominant-baseline=\"middle\" text-anchor=\"middle\" font-size=\"14px\" font-family=\"sans\\-serif:style=normal:variant=normal:weight=normal:stretch=normal:size=10.0\">ZZ</text><rect x=\"237.55289062500003\" y=\"125.0\" width=\"92.60464843750002\" height=\"40\" stroke=\"black\" fill=\"white\" stroke-width=\"1\" /><text x=\"283.85521484375005\" y=\"145.0\" dominant-baseline=\"middle\" text-anchor=\"middle\" font-size=\"14px\" font-family=\"sans\\-serif:style=normal:variant=normal:weight=normal:stretch=normal:size=10.0\">ZZ^(-2.0*γ)</text><rect x=\"340.15753906250006\" y=\"25.0\" width=\"92.60464843750002\" height=\"40\" stroke=\"black\" fill=\"white\" stroke-width=\"1\" /><text x=\"386.4598632812501\" y=\"45.0\" dominant-baseline=\"middle\" text-anchor=\"middle\" font-size=\"14px\" font-family=\"sans\\-serif:style=normal:variant=normal:weight=normal:stretch=normal:size=10.0\">ZZ</text><rect x=\"340.15753906250006\" y=\"175.0\" width=\"92.60464843750002\" height=\"40\" stroke=\"black\" fill=\"white\" stroke-width=\"1\" /><text x=\"386.4598632812501\" y=\"195.0\" dominant-baseline=\"middle\" text-anchor=\"middle\" font-size=\"14px\" font-family=\"sans\\-serif:style=normal:variant=normal:weight=normal:stretch=normal:size=10.0\">ZZ^(-1.4*γ)</text><rect x=\"432.7621875000001\" y=\"75.0\" width=\"92.60464843750002\" height=\"40\" stroke=\"black\" fill=\"white\" stroke-width=\"1\" /><text x=\"479.0645117187501\" y=\"95.0\" dominant-baseline=\"middle\" text-anchor=\"middle\" font-size=\"14px\" font-family=\"sans\\-serif:style=normal:variant=normal:weight=normal:stretch=normal:size=10.0\">ZZ</text><rect x=\"432.7621875000001\" y=\"125.0\" width=\"92.60464843750002\" height=\"40\" stroke=\"black\" fill=\"white\" stroke-width=\"1\" /><text x=\"479.0645117187501\" y=\"145.0\" dominant-baseline=\"middle\" text-anchor=\"middle\" font-size=\"14px\" font-family=\"sans\\-serif:style=normal:variant=normal:weight=normal:stretch=normal:size=10.0\">ZZ^(-1.4*γ)</text><rect x=\"555.3668359375001\" y=\"75.0\" width=\"92.60464843750002\" height=\"40\" stroke=\"black\" fill=\"white\" stroke-width=\"1\" /><text x=\"601.6691601562501\" y=\"95.0\" dominant-baseline=\"middle\" text-anchor=\"middle\" font-size=\"14px\" font-family=\"sans\\-serif:style=normal:variant=normal:weight=normal:stretch=normal:size=10.0\">ZZ</text><rect x=\"555.3668359375001\" y=\"175.0\" width=\"92.60464843750002\" height=\"40\" stroke=\"black\" fill=\"white\" stroke-width=\"1\" /><text x=\"601.6691601562501\" y=\"195.0\" dominant-baseline=\"middle\" text-anchor=\"middle\" font-size=\"14px\" font-family=\"sans\\-serif:style=normal:variant=normal:weight=normal:stretch=normal:size=10.0\">ZZ^(-2.0*γ)</text><rect x=\"555.3668359375001\" y=\"25.0\" width=\"92.60464843750002\" height=\"40\" stroke=\"black\" fill=\"white\" stroke-width=\"1\" /><text x=\"601.6691601562501\" y=\"45.0\" dominant-baseline=\"middle\" text-anchor=\"middle\" font-size=\"14px\" font-family=\"sans\\-serif:style=normal:variant=normal:weight=normal:stretch=normal:size=10.0\">Rx(2*β)</text><rect x=\"667.971484375\" y=\"125.0\" width=\"110.41910156250003\" height=\"40\" stroke=\"black\" fill=\"white\" stroke-width=\"1\" /><text x=\"723.1810351562501\" y=\"145.0\" dominant-baseline=\"middle\" text-anchor=\"middle\" font-size=\"14px\" font-family=\"sans\\-serif:style=normal:variant=normal:weight=normal:stretch=normal:size=10.0\">ZZ</text><rect x=\"667.971484375\" y=\"175.0\" width=\"110.41910156250003\" height=\"40\" stroke=\"black\" fill=\"white\" stroke-width=\"1\" /><text x=\"723.1810351562501\" y=\"195.0\" dominant-baseline=\"middle\" text-anchor=\"middle\" font-size=\"14px\" font-family=\"sans\\-serif:style=normal:variant=normal:weight=normal:stretch=normal:size=10.0\">ZZ^(-398.0*γ)</text><rect x=\"667.971484375\" y=\"75.0\" width=\"110.41910156250003\" height=\"40\" stroke=\"black\" fill=\"white\" stroke-width=\"1\" /><text x=\"723.1810351562501\" y=\"95.0\" dominant-baseline=\"middle\" text-anchor=\"middle\" font-size=\"14px\" font-family=\"sans\\-serif:style=normal:variant=normal:weight=normal:stretch=normal:size=10.0\">Rx(2*β)</text><rect x=\"667.971484375\" y=\"25.0\" width=\"110.41910156250003\" height=\"40\" stroke=\"black\" fill=\"white\" stroke-width=\"1\" /><text x=\"723.1810351562501\" y=\"45.0\" dominant-baseline=\"middle\" text-anchor=\"middle\" font-size=\"18px\" font-family=\"sans\\-serif:style=normal:variant=normal:weight=normal:stretch=normal:size=10.0\">M</text><rect x=\"798.3905859375002\" y=\"125.0\" width=\"99.69488281250001\" height=\"40\" stroke=\"black\" fill=\"white\" stroke-width=\"1\" /><text x=\"848.2380273437502\" y=\"145.0\" dominant-baseline=\"middle\" text-anchor=\"middle\" font-size=\"14px\" font-family=\"sans\\-serif:style=normal:variant=normal:weight=normal:stretch=normal:size=10.0\">Rz(3000.0*γ)</text><rect x=\"798.3905859375002\" y=\"175.0\" width=\"99.69488281250001\" height=\"40\" stroke=\"black\" fill=\"white\" stroke-width=\"1\" /><text x=\"848.2380273437502\" y=\"195.0\" dominant-baseline=\"middle\" text-anchor=\"middle\" font-size=\"14px\" font-family=\"sans\\-serif:style=normal:variant=normal:weight=normal:stretch=normal:size=10.0\">Rz(3000.0*γ)</text><rect x=\"798.3905859375002\" y=\"75.0\" width=\"99.69488281250001\" height=\"40\" stroke=\"black\" fill=\"white\" stroke-width=\"1\" /><text x=\"848.2380273437502\" y=\"95.0\" dominant-baseline=\"middle\" text-anchor=\"middle\" font-size=\"18px\" font-family=\"sans\\-serif:style=normal:variant=normal:weight=normal:stretch=normal:size=10.0\">M</text><rect x=\"918.0854687500002\" y=\"125.0\" width=\"61.20171875\" height=\"40\" stroke=\"black\" fill=\"white\" stroke-width=\"1\" /><text x=\"948.6863281250003\" y=\"145.0\" dominant-baseline=\"middle\" text-anchor=\"middle\" font-size=\"14px\" font-family=\"sans\\-serif:style=normal:variant=normal:weight=normal:stretch=normal:size=10.0\">Rx(2*β)</text><rect x=\"918.0854687500002\" y=\"175.0\" width=\"61.20171875\" height=\"40\" stroke=\"black\" fill=\"white\" stroke-width=\"1\" /><text x=\"948.6863281250003\" y=\"195.0\" dominant-baseline=\"middle\" text-anchor=\"middle\" font-size=\"14px\" font-family=\"sans\\-serif:style=normal:variant=normal:weight=normal:stretch=normal:size=10.0\">Rx(2*β)</text><rect x=\"999.2871875000003\" y=\"125.0\" width=\"40\" height=\"40\" stroke=\"black\" fill=\"white\" stroke-width=\"1\" /><text x=\"1019.2871875000003\" y=\"145.0\" dominant-baseline=\"middle\" text-anchor=\"middle\" font-size=\"18px\" font-family=\"sans\\-serif:style=normal:variant=normal:weight=normal:stretch=normal:size=10.0\">M</text><rect x=\"999.2871875000003\" y=\"175.0\" width=\"40\" height=\"40\" stroke=\"black\" fill=\"white\" stroke-width=\"1\" /><text x=\"1019.2871875000003\" y=\"195.0\" dominant-baseline=\"middle\" text-anchor=\"middle\" font-size=\"18px\" font-family=\"sans\\-serif:style=normal:variant=normal:weight=normal:stretch=normal:size=10.0\">M</text></svg>"
      ],
      "text/plain": [
       "<cirq.contrib.svg.svg.SVGCircuit at 0x1776e589710>"
      ]
     },
     "execution_count": 115,
     "metadata": {},
     "output_type": "execute_result"
    }
   ],
   "source": [
    "# Linequbit number of nodes\n",
    "node = weight.shape[0]\n",
    "\n",
    "# Define symbolic parameters\n",
    "gamma = sp.Symbol(\"γ\")\n",
    "beta = sp.Symbol(\"β\")\n",
    "\n",
    "# Create qubits and initialize circuit\n",
    "qubits = cirq.LineQubit.range(node)\n",
    "qaoa_circuit = cirq.Circuit()\n",
    "\n",
    "# Initial Hadamard layer\n",
    "qaoa_circuit.append([cirq.H(q) for q in qubits])\n",
    "\n",
    "# Cost Hamiltonian layer (ZZ interactions)\n",
    "for i in range(node):\n",
    "    for j in range(i+1, node):\n",
    "        if weight[i, j] != 0:\n",
    "            qaoa_circuit.append(cirq.ZZ(qubits[i], qubits[j]) ** (2 * gamma * weight[i, j]))\n",
    "\n",
    "# Self Ineraction term\n",
    "for i in range(node):\n",
    "    if weight[i, i] != 0:\n",
    "        qaoa_circuit.append(cirq.rz(2 * gamma * weight[i, i])(qubits[i]))\n",
    "\n",
    "# Mixer layer (Rx rotations applied in parallel)\n",
    "qaoa_circuit.append([cirq.rx(2 * beta)(q) for q in qubits])\n",
    "\n",
    "# Measurement layer\n",
    "qaoa_circuit.append([\n",
    "    cirq.measure(q) for q in qubits\n",
    "])\n",
    "\n",
    "# Visualize the circuit\n",
    "SVGCircuit(qaoa_circuit)"
   ]
  },
  {
   "cell_type": "markdown",
   "id": "d275a33d-9920-4916-958b-20e99a206e51",
   "metadata": {},
   "source": [
    "## 2. Cost Calculation function and Simple Simulation"
   ]
  },
  {
   "cell_type": "code",
   "execution_count": 116,
   "id": "8989e27e-0182-40f4-bd36-e12e9a26541d",
   "metadata": {},
   "outputs": [],
   "source": [
    "def estimate_cost(weight, samples):\n",
    "    cost_value = 0.0\n",
    "    node = weight.shape[0]\n",
    "\n",
    "    # Loop over upper triangle of adjacency matrix\n",
    "    for i in range(node):\n",
    "        for j in range(i, node):\n",
    "            if weight[i, j] != 0:\n",
    "                i_samples = samples[\"q(\" + str(i) + \")\"]\n",
    "                j_samples = samples[\"q(\" + str(j) + \")\"]\n",
    "\n",
    "                # Convert {0,1} to {+1, -1}\n",
    "                i_signs = (-1) ** i_samples\n",
    "                j_signs = (-1) ** j_samples\n",
    "                term_signs = i_signs * j_signs\n",
    "\n",
    "                # Expectation value for edge (i,j)\n",
    "                term_val = np.mean(term_signs) * weight[i, j]\n",
    "                cost_value += term_val\n",
    "\n",
    "    return cost_value"
   ]
  },
  {
   "cell_type": "code",
   "execution_count": 117,
   "id": "5be316cb-f83d-4f0f-9594-42161ecd32cd",
   "metadata": {},
   "outputs": [
    {
     "name": "stdout",
     "output_type": "stream",
     "text": [
      "Gamma = 0.785 Beta = 1.571\n",
      "Estimated cost: 3001.1232099999997\n"
     ]
    }
   ],
   "source": [
    "gamma_value = np.pi / 4\n",
    "beta_value = np.pi / 2\n",
    "sim = cirq.Simulator()\n",
    "\n",
    "sample_results = sim.sample(qaoa_circuit, params={gamma: gamma_value, beta: beta_value}, repetitions=20000)\n",
    "\n",
    "sample_results = dict(sample_results)\n",
    "\n",
    "print(f\"Gamma = {round(gamma_value, 3)} Beta = {round(beta_value, 3)}\")\n",
    "print(f\"Estimated cost: {estimate_cost(weight, sample_results)}\")"
   ]
  },
  {
   "cell_type": "markdown",
   "id": "03b69e50-687c-4ac5-84b9-169c3c72979b",
   "metadata": {},
   "source": [
    "## 3. Iteration over zero to pi values to gamma and beta"
   ]
  },
  {
   "cell_type": "code",
   "execution_count": 118,
   "id": "a47f8c2d-f914-4222-81ac-e3581dd062dd",
   "metadata": {},
   "outputs": [
    {
     "name": "stdout",
     "output_type": "stream",
     "text": [
      "[0.         0.15707963 0.31415927 0.4712389  0.62831853 0.78539816\n",
      " 0.9424778  1.09955743 1.25663706 1.41371669 1.57079633 1.72787596\n",
      " 1.88495559 2.04203522 2.19911486 2.35619449 2.51327412 2.67035376\n",
      " 2.82743339 2.98451302 3.14159265]\n",
      "[0.         0.15707963 0.31415927 0.4712389  0.62831853 0.78539816\n",
      " 0.9424778  1.09955743 1.25663706 1.41371669 1.57079633 1.72787596\n",
      " 1.88495559 2.04203522 2.19911486 2.35619449 2.51327412 2.67035376\n",
      " 2.82743339 2.98451302 3.14159265]\n",
      "2848.5700699999998 3150.00656 1.413716694115407 0.47123889803846897\n",
      "50.82019853591919\n"
     ]
    }
   ],
   "source": [
    "import time\n",
    "\n",
    "start = time.time()\n",
    "grid_size = 21\n",
    "\n",
    "def gam_beta_grid(weight, grid_size):\n",
    "    grid = np.zeros((grid_size, grid_size))\n",
    "    gamma_sweep = np.linspace(0, np.pi, grid_size)\n",
    "    print(gamma_sweep)\n",
    "    beta_sweep = np.linspace(0, np.pi, grid_size)\n",
    "    print(beta_sweep)\n",
    "    \n",
    "    for i in range(grid_size):\n",
    "        for j in range(grid_size):\n",
    "            results = sim.sample(qaoa_circuit, params = {gamma : gamma_sweep[i], beta : beta_sweep[j]}, repetitions = 20000)\n",
    "            results = dict(results)\n",
    "            cost = estimate_cost(weight, results)\n",
    "            grid[i, j] = cost\n",
    "            \n",
    "    mini, maxi = np.min(grid), np.max(grid)\n",
    "    min_g, min_b = np.unravel_index(np.argmin(grid), grid.shape)\n",
    "    min_gam = gamma_sweep[min_g] \n",
    "    # https://i.namu.wiki/i/f_q_IqI70RTqi_uiV4x62Y-pB--aJj6WUpDc-JMMTPL8x98fa_RVinXWilRrq6VabEc5WHLo3z3ME6APjRZDgOgHUhwPULFa3XT5P29OSMtr3saevTIeqrjORaZRqBIR1Teb9sSmhi7vB4u4ITUxGw.webp\n",
    "    min_bet = beta_sweep[min_b]\n",
    "    return mini, maxi, min_gam, min_bet, grid\n",
    "        \n",
    "mini, maxi, min_gam, min_bet, grid = gam_beta_grid(weight, grid_size)\n",
    "print(mini, maxi, min_gam, min_bet)\n",
    "\n",
    "\n",
    "end = time.time()\n",
    "\n",
    "print(end - start)"
   ]
  },
  {
   "cell_type": "code",
   "execution_count": 119,
   "id": "0630a58b-f821-4962-99cf-9cc282538697",
   "metadata": {},
   "outputs": [
    {
     "data": {
      "image/png": "[encoded data removed]",
      "text/plain": [
       "<Figure size 640x480 with 2 Axes>"
      ]
     },
     "metadata": {},
     "output_type": "display_data"
    }
   ],
   "source": [
    "plt.imshow(grid)\n",
    "plt.colorbar()\n",
    "plt.show()"
   ]
  },
  {
   "cell_type": "markdown",
   "id": "44fdcce3-c98c-4d5c-a723-373047f46861",
   "metadata": {},
   "source": [
    "## 4. Calculation and Qubit statistic about optimized gamma and beta"
   ]
  },
  {
   "cell_type": "code",
   "execution_count": 120,
   "id": "2844373f-e8f8-4616-8618-7df036e478fb",
   "metadata": {},
   "outputs": [
    {
     "name": "stdout",
     "output_type": "stream",
     "text": [
      "1\n",
      "Gamma = 1.414 Beta = 0.471\n",
      "Estimated cost: 2849.511334\n"
     ]
    }
   ],
   "source": [
    "gamma_value = min_gam\n",
    "beta_value = min_bet\n",
    "sim = cirq.Simulator()\n",
    "\n",
    "sample_results = sim.sample(\n",
    "    qaoa_circuit, params={gamma: gamma_value, beta: beta_value}, repetitions=200000\n",
    ")\n",
    "\n",
    "sample_results = dict(sample_results)\n",
    "a = sample_results[\"q(0)\"][5]\n",
    "print(a)\n",
    "\n",
    "print(f\"Gamma = {round(gamma_value, 3)} Beta = {round(beta_value, 3)}\")\n",
    "print(f\"Estimated cost: {estimate_cost(weight, sample_results)}\")"
   ]
  },
  {
   "cell_type": "code",
   "execution_count": 121,
   "id": "54554ed8-497e-4ae2-94c6-aaba0e212021",
   "metadata": {},
   "outputs": [],
   "source": [
    "def histogram_qubits(result, node, repetition):\n",
    "    qubit_list = {}\n",
    "    str_qubit = [\"q(\" + str(i) + \")\" for i in range(node)]\n",
    "    for idx in range(repetition):\n",
    "        res_qubit = \"\"\n",
    "        for jdx in str_qubit:\n",
    "            res_qubit += str(result[jdx][idx])\n",
    "\n",
    "        try:\n",
    "            qubit_list[res_qubit] += 1\n",
    "        except:\n",
    "            qubit_list[res_qubit] = 1\n",
    "\n",
    "    return qubit_list"
   ]
  },
  {
   "cell_type": "code",
   "execution_count": 122,
   "id": "5d7625d9-d7fc-4745-a198-9003c1ff37b5",
   "metadata": {},
   "outputs": [
    {
     "name": "stdout",
     "output_type": "stream",
     "text": [
      "['0111', '1000', '0100', '1011', '0000'] [29008, 29003, 28769, 28752, 28140]\n"
     ]
    },
    {
     "data": {
      "image/png": "[encoded data removed]",
      "text/plain": [
       "<Figure size 640x480 with 1 Axes>"
      ]
     },
     "metadata": {},
     "output_type": "display_data"
    }
   ],
   "source": [
    "qubit_list = histogram_qubits(sample_results, node, 200000)\n",
    "sorted_qubit_list = dict(sorted(qubit_list.items(), key=lambda x: x[0]))\n",
    "sorted_qubit_list = {int(k, 2): v for k, v in sorted_qubit_list.items()}\n",
    "ranking_qubit_list = dict(sorted(qubit_list.items(), key=lambda x: x[1], reverse=True))\n",
    "# print(ranking_qubit_list)\n",
    "compo = list(ranking_qubit_list.keys())\n",
    "count = list(ranking_qubit_list.values())\n",
    "print(compo[0:5], count[0:5])\n",
    "\n",
    "sym = sorted_qubit_list.keys()\n",
    "val = sorted_qubit_list.values()\n",
    "\n",
    "name = \"Nyx\"\n",
    "plt.bar(sym, val, color = \"hotpink\")\n",
    "plt.savefig(f\"result/{name}.png\")\n",
    "plt.show()"
   ]
  },
  {
   "cell_type": "code",
   "execution_count": null,
   "id": "2663800b-b682-4e70-968c-747f00235e29",
   "metadata": {},
   "outputs": [],
   "source": []
  }
 ],
 "metadata": {
  "kernelspec": {
   "display_name": "Python 3 (ipykernel)",
   "language": "python",
   "name": "python3"
  },
  "language_info": {
   "codemirror_mode": {
    "name": "ipython",
    "version": 3
   },
   "file_extension": ".py",
   "mimetype": "text/x-python",
   "name": "python",
   "nbconvert_exporter": "python",
   "pygments_lexer": "ipython3",
   "version": "3.13.3"
  }
 },
 "nbformat": 4,
 "nbformat_minor": 5
}
